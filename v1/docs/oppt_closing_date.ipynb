{
 "cells": [
  {
   "cell_type": "code",
   "execution_count": 93,
   "metadata": {
    "collapsed": true
   },
   "outputs": [],
   "source": [
    "%matplotlib inline\n",
    "import numpy as np\n",
    "import matplotlib.pyplot as plt\n",
    "import pandas as pd\n",
    "import datetime\n",
    "import calendar\n",
    "import random \n",
    "import seaborn as sn\n",
    "import itertools\n",
    "from dateutil.parser import parse\n",
    "\n",
    "from sklearn.model_selection import train_test_split"
   ]
  },
  {
   "cell_type": "markdown",
   "metadata": {},
   "source": [
    "!chcp 65001\n",
    "!sqlcmd -f 65001 -S tsc-backend-eastus.database.windows.net -U tscadmin -P FI])U6EiM5QMrmG -d shallowcopy-sdh -s\"|\" -k1 -W -Q \"SELECT o.AccountId, o.OpportunityId , o.CreatedDate, o.ActualCloseDate, o.EstimatedCloseDate, HasCustomerAgreedToBuy, o.CreatedById, o.EstimatedValue, o.ActualValue, a.CreatedDate as AccountCreatedDate, a.City as AccountCity, a.EndCustomerSegmentSeqNo, a.EndCustomerSubsegmentSeqNo, a.IndustrySeqNo, a.IndustryVerticalSeqNo, a.VerticalCategorySeqNo, p.PfamSkid, p.PoolSeqNo, p.ProdSkid, p.ProductNumber, p.ProductStructureSeqNo, p.ProductTypeSeqNo FROM [dbo].[Hub_vw_Opportunity] o (nolock) JOIN [dbo].[Hub_vw_OpportunityProduct] op (nolock) on op.OpportunityId = o.OpportunityId JOIN [dbo].[Hub_vw_Product] p (nolock) on op.ProductId = p.ProductId JOIN [dbo].[Hub_vw_Account] a (nolock) on o.AccountId = a.AccountId WHERE a.Country = 'United States' and a.CurrencyId = 'FF2971D7-B412-E411-8D49-6C3BE5A82B68' \" >oppty_join.csv\n"
   ]
  },
  {
   "cell_type": "code",
   "execution_count": 261,
   "metadata": {
    "collapsed": false
   },
   "outputs": [
    {
     "name": "stderr",
     "output_type": "stream",
     "text": [
      "D:\\Anaconda2\\envs\\py36\\lib\\site-packages\\IPython\\core\\interactiveshell.py:2785: DtypeWarning: Columns (16) have mixed types. Specify dtype option on import or set low_memory=False.\n",
      "  interactivity=interactivity, compiler=compiler, result=result)\n"
     ]
    },
    {
     "name": "stdout",
     "output_type": "stream",
     "text": [
      "dropped:  61046\n",
      "dropped:  49488\n"
     ]
    }
   ],
   "source": [
    "   \n",
    "#opt = pd.read_csv(\"d:/repos/forecast/data/oppty_join.csv\", sep=\"|\", skiprows=[1], error_bad_lines=True, encoding='iso-8859-1')\n",
    "date_columns = ['CreatedDate', 'EstimatedCloseDate','ActualCloseDate', 'AccountCreatedDate']\n",
    "\n",
    "opt = pd.read_csv(\"d:/repos/forecast/data/oppty_join.csv\", sep=\"|\", skiprows=[1], parse_dates=date_columns)#, , date_parser = xplow_memory=False)\n",
    "#opt.dropna(inplace=True)\n",
    "opt[\"EstimatedCloseDate\"] = pd.to_datetime(opt['EstimatedCloseDate'], errors=\"coerce\")\n",
    "\n",
    "opt[\"actual_days_to_close\"] = (opt['ActualCloseDate'] - opt['CreatedDate']).astype('timedelta64[D]')\n",
    "opt[\"est_days_to_close\"] = (opt['EstimatedCloseDate'] - opt['CreatedDate']).astype('timedelta64[D]')\n",
    "\n",
    "l = len(opt)\n",
    "opt.drop( opt[(opt['actual_days_to_close'] > 365*5)].index, inplace=True)\n",
    "opt.drop( opt[(opt['actual_days_to_close'] < 0)].index, inplace=True)\n",
    "print('dropped: ', l-len(opt))\n",
    "l = len(opt)\n",
    "opt.drop( opt[(opt['est_days_to_close'] > 365*5)].index, inplace=True)\n",
    "opt.drop( opt[(opt['est_days_to_close'] < 0)].index, inplace=True)\n",
    "print('dropped: ', l-len(opt))\n",
    "\n",
    "opt[\"AccountCreatedYear\"] = opt[\"AccountCreatedDate\"].apply(lambda x: x.year)\n",
    "opt[\"CreatedMonth\"] = opt[\"CreatedDate\"].apply(lambda x: x.month)\n",
    "opt[opt[\"PoolSeqNo\"].isna()] = 0\n"
   ]
  },
  {
   "cell_type": "code",
   "execution_count": 262,
   "metadata": {
    "collapsed": false
   },
   "outputs": [
    {
     "data": {
      "text/html": [
       "<div>\n",
       "<style scoped>\n",
       "    .dataframe tbody tr th:only-of-type {\n",
       "        vertical-align: middle;\n",
       "    }\n",
       "\n",
       "    .dataframe tbody tr th {\n",
       "        vertical-align: top;\n",
       "    }\n",
       "\n",
       "    .dataframe thead th {\n",
       "        text-align: right;\n",
       "    }\n",
       "</style>\n",
       "<table border=\"1\" class=\"dataframe\">\n",
       "  <thead>\n",
       "    <tr style=\"text-align: right;\">\n",
       "      <th></th>\n",
       "      <th>HasCustomerAgreedToBuy</th>\n",
       "      <th>EstimatedValue</th>\n",
       "      <th>ActualValue</th>\n",
       "      <th>EndCustomerSegmentSeqNo</th>\n",
       "      <th>EndCustomerSubsegmentSeqNo</th>\n",
       "      <th>IndustrySeqNo</th>\n",
       "      <th>IndustryVerticalSeqNo</th>\n",
       "      <th>VerticalCategorySeqNo</th>\n",
       "      <th>PoolSeqNo</th>\n",
       "      <th>ProductStructureSeqNo</th>\n",
       "      <th>ProductTypeSeqNo</th>\n",
       "      <th>actual_days_to_close</th>\n",
       "      <th>est_days_to_close</th>\n",
       "      <th>AccountCreatedYear</th>\n",
       "      <th>CreatedMonth</th>\n",
       "      <th>days_to_close_bucket</th>\n",
       "    </tr>\n",
       "  </thead>\n",
       "  <tbody>\n",
       "    <tr>\n",
       "      <th>count</th>\n",
       "      <td>2.734050e+06</td>\n",
       "      <td>3.534009e+06</td>\n",
       "      <td>2.936287e+06</td>\n",
       "      <td>3.534088e+06</td>\n",
       "      <td>3.534088e+06</td>\n",
       "      <td>3.487547e+06</td>\n",
       "      <td>3.487549e+06</td>\n",
       "      <td>3.487560e+06</td>\n",
       "      <td>2.373186e+06</td>\n",
       "      <td>3.534088e+06</td>\n",
       "      <td>3.533018e+06</td>\n",
       "      <td>3.174888e+06</td>\n",
       "      <td>3.529326e+06</td>\n",
       "      <td>3.534088e+06</td>\n",
       "      <td>3.534088e+06</td>\n",
       "      <td>3.534089e+06</td>\n",
       "    </tr>\n",
       "    <tr>\n",
       "      <th>mean</th>\n",
       "      <td>1.875240e-03</td>\n",
       "      <td>4.137015e+05</td>\n",
       "      <td>3.759894e+05</td>\n",
       "      <td>5.081786e+03</td>\n",
       "      <td>5.161225e+03</td>\n",
       "      <td>3.579190e+03</td>\n",
       "      <td>5.425944e+02</td>\n",
       "      <td>2.086428e+02</td>\n",
       "      <td>5.618932e+02</td>\n",
       "      <td>3.084001e+03</td>\n",
       "      <td>3.614786e+02</td>\n",
       "      <td>2.426028e+02</td>\n",
       "      <td>2.503597e+02</td>\n",
       "      <td>2.004131e+03</td>\n",
       "      <td>5.573482e+00</td>\n",
       "      <td>3.451086e+00</td>\n",
       "    </tr>\n",
       "    <tr>\n",
       "      <th>std</th>\n",
       "      <td>4.326343e-02</td>\n",
       "      <td>7.237852e+06</td>\n",
       "      <td>2.705066e+06</td>\n",
       "      <td>1.515604e+00</td>\n",
       "      <td>2.425011e+02</td>\n",
       "      <td>2.495790e+03</td>\n",
       "      <td>1.238287e+03</td>\n",
       "      <td>8.006255e+02</td>\n",
       "      <td>6.487602e-01</td>\n",
       "      <td>3.604339e-02</td>\n",
       "      <td>3.171765e+02</td>\n",
       "      <td>1.753376e+02</td>\n",
       "      <td>1.664316e+02</td>\n",
       "      <td>5.447112e+00</td>\n",
       "      <td>2.931267e+00</td>\n",
       "      <td>1.328255e+00</td>\n",
       "    </tr>\n",
       "    <tr>\n",
       "      <th>min</th>\n",
       "      <td>0.000000e+00</td>\n",
       "      <td>0.000000e+00</td>\n",
       "      <td>0.000000e+00</td>\n",
       "      <td>5.080000e+03</td>\n",
       "      <td>5.087000e+03</td>\n",
       "      <td>2.570000e+02</td>\n",
       "      <td>1.970000e+02</td>\n",
       "      <td>1.100000e+01</td>\n",
       "      <td>5.610000e+02</td>\n",
       "      <td>3.084000e+03</td>\n",
       "      <td>3.030000e+02</td>\n",
       "      <td>0.000000e+00</td>\n",
       "      <td>0.000000e+00</td>\n",
       "      <td>1.998000e+03</td>\n",
       "      <td>1.000000e+00</td>\n",
       "      <td>1.000000e+00</td>\n",
       "    </tr>\n",
       "    <tr>\n",
       "      <th>25%</th>\n",
       "      <td>0.000000e+00</td>\n",
       "      <td>9.263450e+03</td>\n",
       "      <td>0.000000e+00</td>\n",
       "      <td>5.080000e+03</td>\n",
       "      <td>5.090000e+03</td>\n",
       "      <td>2.610000e+02</td>\n",
       "      <td>2.120000e+02</td>\n",
       "      <td>3.800000e+01</td>\n",
       "      <td>5.620000e+02</td>\n",
       "      <td>3.084000e+03</td>\n",
       "      <td>3.340000e+02</td>\n",
       "      <td>1.170000e+02</td>\n",
       "      <td>1.280000e+02</td>\n",
       "      <td>1.999000e+03</td>\n",
       "      <td>3.000000e+00</td>\n",
       "      <td>3.000000e+00</td>\n",
       "    </tr>\n",
       "    <tr>\n",
       "      <th>50%</th>\n",
       "      <td>0.000000e+00</td>\n",
       "      <td>5.000000e+04</td>\n",
       "      <td>3.419700e+04</td>\n",
       "      <td>5.082000e+03</td>\n",
       "      <td>5.097000e+03</td>\n",
       "      <td>5.340000e+03</td>\n",
       "      <td>2.260000e+02</td>\n",
       "      <td>8.100000e+01</td>\n",
       "      <td>5.620000e+02</td>\n",
       "      <td>3.084000e+03</td>\n",
       "      <td>3.340000e+02</td>\n",
       "      <td>2.220000e+02</td>\n",
       "      <td>2.330000e+02</td>\n",
       "      <td>2.002000e+03</td>\n",
       "      <td>5.000000e+00</td>\n",
       "      <td>4.000000e+00</td>\n",
       "    </tr>\n",
       "    <tr>\n",
       "      <th>75%</th>\n",
       "      <td>0.000000e+00</td>\n",
       "      <td>1.812496e+05</td>\n",
       "      <td>1.573870e+05</td>\n",
       "      <td>5.082000e+03</td>\n",
       "      <td>5.099000e+03</td>\n",
       "      <td>5.346000e+03</td>\n",
       "      <td>2.440000e+02</td>\n",
       "      <td>1.210000e+02</td>\n",
       "      <td>5.620000e+02</td>\n",
       "      <td>3.084000e+03</td>\n",
       "      <td>3.340000e+02</td>\n",
       "      <td>3.380000e+02</td>\n",
       "      <td>3.380000e+02</td>\n",
       "      <td>2.008000e+03</td>\n",
       "      <td>8.000000e+00</td>\n",
       "      <td>5.000000e+00</td>\n",
       "    </tr>\n",
       "    <tr>\n",
       "      <th>max</th>\n",
       "      <td>1.000000e+00</td>\n",
       "      <td>9.900000e+09</td>\n",
       "      <td>1.125000e+09</td>\n",
       "      <td>5.086000e+03</td>\n",
       "      <td>6.057000e+03</td>\n",
       "      <td>6.056000e+03</td>\n",
       "      <td>6.106000e+03</td>\n",
       "      <td>5.410000e+03</td>\n",
       "      <td>5.640000e+02</td>\n",
       "      <td>3.086000e+03</td>\n",
       "      <td>5.750000e+03</td>\n",
       "      <td>1.825000e+03</td>\n",
       "      <td>1.825000e+03</td>\n",
       "      <td>2.018000e+03</td>\n",
       "      <td>1.200000e+01</td>\n",
       "      <td>5.000000e+00</td>\n",
       "    </tr>\n",
       "  </tbody>\n",
       "</table>\n",
       "</div>"
      ],
      "text/plain": [
       "       HasCustomerAgreedToBuy  EstimatedValue   ActualValue  \\\n",
       "count            2.734050e+06    3.534009e+06  2.936287e+06   \n",
       "mean             1.875240e-03    4.137015e+05  3.759894e+05   \n",
       "std              4.326343e-02    7.237852e+06  2.705066e+06   \n",
       "min              0.000000e+00    0.000000e+00  0.000000e+00   \n",
       "25%              0.000000e+00    9.263450e+03  0.000000e+00   \n",
       "50%              0.000000e+00    5.000000e+04  3.419700e+04   \n",
       "75%              0.000000e+00    1.812496e+05  1.573870e+05   \n",
       "max              1.000000e+00    9.900000e+09  1.125000e+09   \n",
       "\n",
       "       EndCustomerSegmentSeqNo  EndCustomerSubsegmentSeqNo  IndustrySeqNo  \\\n",
       "count             3.534088e+06                3.534088e+06   3.487547e+06   \n",
       "mean              5.081786e+03                5.161225e+03   3.579190e+03   \n",
       "std               1.515604e+00                2.425011e+02   2.495790e+03   \n",
       "min               5.080000e+03                5.087000e+03   2.570000e+02   \n",
       "25%               5.080000e+03                5.090000e+03   2.610000e+02   \n",
       "50%               5.082000e+03                5.097000e+03   5.340000e+03   \n",
       "75%               5.082000e+03                5.099000e+03   5.346000e+03   \n",
       "max               5.086000e+03                6.057000e+03   6.056000e+03   \n",
       "\n",
       "       IndustryVerticalSeqNo  VerticalCategorySeqNo     PoolSeqNo  \\\n",
       "count           3.487549e+06           3.487560e+06  2.373186e+06   \n",
       "mean            5.425944e+02           2.086428e+02  5.618932e+02   \n",
       "std             1.238287e+03           8.006255e+02  6.487602e-01   \n",
       "min             1.970000e+02           1.100000e+01  5.610000e+02   \n",
       "25%             2.120000e+02           3.800000e+01  5.620000e+02   \n",
       "50%             2.260000e+02           8.100000e+01  5.620000e+02   \n",
       "75%             2.440000e+02           1.210000e+02  5.620000e+02   \n",
       "max             6.106000e+03           5.410000e+03  5.640000e+02   \n",
       "\n",
       "       ProductStructureSeqNo  ProductTypeSeqNo  actual_days_to_close  \\\n",
       "count           3.534088e+06      3.533018e+06          3.174888e+06   \n",
       "mean            3.084001e+03      3.614786e+02          2.426028e+02   \n",
       "std             3.604339e-02      3.171765e+02          1.753376e+02   \n",
       "min             3.084000e+03      3.030000e+02          0.000000e+00   \n",
       "25%             3.084000e+03      3.340000e+02          1.170000e+02   \n",
       "50%             3.084000e+03      3.340000e+02          2.220000e+02   \n",
       "75%             3.084000e+03      3.340000e+02          3.380000e+02   \n",
       "max             3.086000e+03      5.750000e+03          1.825000e+03   \n",
       "\n",
       "       est_days_to_close  AccountCreatedYear  CreatedMonth  \\\n",
       "count       3.529326e+06        3.534088e+06  3.534088e+06   \n",
       "mean        2.503597e+02        2.004131e+03  5.573482e+00   \n",
       "std         1.664316e+02        5.447112e+00  2.931267e+00   \n",
       "min         0.000000e+00        1.998000e+03  1.000000e+00   \n",
       "25%         1.280000e+02        1.999000e+03  3.000000e+00   \n",
       "50%         2.330000e+02        2.002000e+03  5.000000e+00   \n",
       "75%         3.380000e+02        2.008000e+03  8.000000e+00   \n",
       "max         1.825000e+03        2.018000e+03  1.200000e+01   \n",
       "\n",
       "       days_to_close_bucket  \n",
       "count          3.534089e+06  \n",
       "mean           3.451086e+00  \n",
       "std            1.328255e+00  \n",
       "min            1.000000e+00  \n",
       "25%            3.000000e+00  \n",
       "50%            4.000000e+00  \n",
       "75%            5.000000e+00  \n",
       "max            5.000000e+00  "
      ]
     },
     "execution_count": 262,
     "metadata": {},
     "output_type": "execute_result"
    }
   ],
   "source": [
    "def bucket_days(x):\n",
    "    if (x < 60): return 1\n",
    "    if (x < 120): return 2\n",
    "    if (x < 240): return 3\n",
    "    if (x < 365): return 4\n",
    "    return 5\n",
    "\n",
    "opt['days_to_close_bucket'] = opt['actual_days_to_close'].apply(lambda x: bucket_days(x))\n",
    "\n",
    "opt.describe()"
   ]
  },
  {
   "cell_type": "code",
   "execution_count": 298,
   "metadata": {
    "collapsed": false
   },
   "outputs": [
    {
     "data": {
      "text/plain": [
       "array([4, 1, 3, 2, 5], dtype=int64)"
      ]
     },
     "execution_count": 298,
     "metadata": {},
     "output_type": "execute_result"
    },
    {
     "data": {
      "image/png": "[encoded data removed]",
      "text/plain": [
       "<Figure size 432x288 with 1 Axes>"
      ]
     },
     "metadata": {},
     "output_type": "display_data"
    }
   ],
   "source": [
    "def bucket_value(x):\n",
    "    if (x == np.nan): return 1\n",
    "    if (x <=0): return 1\n",
    "    if (x < 1E4): return 2\n",
    "    if (x < 1E5): return 3\n",
    "    if (x < 1E6): return 4\n",
    "    if (x < 1E7): return 5\n",
    "    return 5\n",
    "\n",
    "opt['ActualValue_bucket'] = opt['ActualValue'].apply(lambda x: bucket_value(x))\n",
    "\n",
    "\n",
    "opt['ActualValue_bucket'].hist(bins=len(opt['ActualValue_bucket'].unique()))\n",
    "opt['ActualValue_bucket'].unique()"
   ]
  },
  {
   "cell_type": "code",
   "execution_count": 264,
   "metadata": {
    "collapsed": false
   },
   "outputs": [
    {
     "data": {
      "text/plain": [
       "Index(['AccountId', 'OpportunityId', 'CreatedDate', 'ActualCloseDate',\n",
       "       'EstimatedCloseDate', 'HasCustomerAgreedToBuy', 'CreatedById',\n",
       "       'EstimatedValue', 'ActualValue', 'AccountCreatedDate', 'AccountCity',\n",
       "       'EndCustomerSegmentSeqNo', 'EndCustomerSubsegmentSeqNo',\n",
       "       'IndustrySeqNo', 'IndustryVerticalSeqNo', 'VerticalCategorySeqNo',\n",
       "       'PfamSkid', 'PoolSeqNo', 'ProdSkid', 'ProductNumber',\n",
       "       'ProductStructureSeqNo', 'ProductTypeSeqNo', 'actual_days_to_close',\n",
       "       'est_days_to_close', 'AccountCreatedYear', 'CreatedMonth',\n",
       "       'days_to_close_bucket', 'ActualValue_bucket'],\n",
       "      dtype='object')"
      ]
     },
     "execution_count": 264,
     "metadata": {},
     "output_type": "execute_result"
    }
   ],
   "source": [
    "opt.columns"
   ]
  },
  {
   "cell_type": "code",
   "execution_count": null,
   "metadata": {
    "collapsed": false
   },
   "outputs": [],
   "source": []
  },
  {
   "cell_type": "code",
   "execution_count": 97,
   "metadata": {
    "collapsed": false
   },
   "outputs": [
    {
     "data": {
      "text/plain": [
       "array([[<matplotlib.axes._subplots.AxesSubplot object at 0x000001C9B7D77DA0>,\n",
       "        <matplotlib.axes._subplots.AxesSubplot object at 0x000001C9A56166D8>,\n",
       "        <matplotlib.axes._subplots.AxesSubplot object at 0x000001C991338A20>],\n",
       "       [<matplotlib.axes._subplots.AxesSubplot object at 0x000001C98A7999B0>,\n",
       "        <matplotlib.axes._subplots.AxesSubplot object at 0x000001C98EB5FC50>,\n",
       "        <matplotlib.axes._subplots.AxesSubplot object at 0x000001C98EB5F358>],\n",
       "       [<matplotlib.axes._subplots.AxesSubplot object at 0x000001C9B7A3A6A0>,\n",
       "        <matplotlib.axes._subplots.AxesSubplot object at 0x000001CA1D677A20>,\n",
       "        <matplotlib.axes._subplots.AxesSubplot object at 0x000001C99F1D1588>]],\n",
       "      dtype=object)"
      ]
     },
     "execution_count": 97,
     "metadata": {},
     "output_type": "execute_result"
    },
    {
     "data": {
      "image/png": "[encoded data removed]",
      "text/plain": [
       "<Figure size 1296x720 with 9 Axes>"
      ]
     },
     "metadata": {},
     "output_type": "display_data"
    }
   ],
   "source": [
    "categorical_columns = ['HasCustomerAgreedToBuy', 'AccountCity',\n",
    "       'EndCustomerSegmentSeqNo', 'EndCustomerSubsegmentSeqNo',\n",
    "       'IndustrySeqNo', 'IndustryVerticalSeqNo', 'VerticalCategorySeqNo',\n",
    "       'PfamSkid', 'PoolSeqNo', 'ProdSkid', 'ProductNumber',\n",
    "       'ProductStructureSeqNo', 'ProductTypeSeqNo']\n",
    "\n",
    "opt[categorical_columns].hist(figsize=(18,10))"
   ]
  },
  {
   "cell_type": "code",
   "execution_count": null,
   "metadata": {
    "collapsed": false
   },
   "outputs": [],
   "source": []
  },
  {
   "cell_type": "code",
   "execution_count": 316,
   "metadata": {
    "collapsed": false
   },
   "outputs": [
    {
     "data": {
      "text/plain": [
       "562.0    1452043\n",
       "0.0      1003377\n",
       "561.0     510370\n",
       "563.0     140026\n",
       "564.0      69072\n",
       "Name: PoolSeqNo, dtype: int64"
      ]
     },
     "execution_count": 316,
     "metadata": {},
     "output_type": "execute_result"
    }
   ],
   "source": [
    "opt[\"PoolSeqNo\"].value_counts()"
   ]
  },
  {
   "cell_type": "code",
   "execution_count": 98,
   "metadata": {
    "collapsed": false
   },
   "outputs": [
    {
     "data": {
      "text/plain": [
       "<matplotlib.axes._subplots.AxesSubplot at 0x1c9c29d1278>"
      ]
     },
     "execution_count": 98,
     "metadata": {},
     "output_type": "execute_result"
    },
    {
     "data": {
      "image/png": "[encoded data removed]",
      "text/plain": [
       "<Figure size 864x720 with 1 Axes>"
      ]
     },
     "metadata": {},
     "output_type": "display_data"
    },
    {
     "data": {
      "image/png": "[encoded data removed]",
      "text/plain": [
       "<Figure size 432x288 with 1 Axes>"
      ]
     },
     "metadata": {},
     "output_type": "display_data"
    }
   ],
   "source": [
    "#opt[ ['est_days_to_close', 'actual_days_to_close']]\n",
    "\n",
    "plt.figure(figsize=(12,10))\n",
    "plt.title(\"actual_days_to_close\")\n",
    "opt['actual_days_to_close'].hist(label='x', bins=50)\n",
    "plt.figure()\n",
    "plt.title(\"est_days_to_close\")\n",
    "opt['est_days_to_close'].hist()"
   ]
  },
  {
   "cell_type": "code",
   "execution_count": 265,
   "metadata": {
    "collapsed": false
   },
   "outputs": [],
   "source": [
    "categorical_columns = ['HasCustomerAgreedToBuy', 'AccountCity',\n",
    "       'EndCustomerSegmentSeqNo', 'EndCustomerSubsegmentSeqNo',\n",
    "       'IndustrySeqNo', 'IndustryVerticalSeqNo', 'VerticalCategorySeqNo',\n",
    "       'PfamSkid', 'PoolSeqNo', 'ProdSkid', 'ProductNumber',\n",
    "       'ProductStructureSeqNo', 'ProductTypeSeqNo']\n",
    "\n",
    "def featurize(opt, cat_features):\n",
    "    for f in cat_features:\n",
    "        opt[f] = opt[f].astype('category')\n",
    "\n",
    "    opt[cat_features] = opt[cat_features].apply(lambda x: x.cat.codes)\n",
    "\n",
    "    opt = opt.drop( opt[opt[\"actual_days_to_close\"].isna()].index )\n",
    "\n",
    "    return opt\n",
    "\n",
    "opt = featurize(opt, cat_features)"
   ]
  },
  {
   "cell_type": "code",
   "execution_count": 266,
   "metadata": {
    "collapsed": false
   },
   "outputs": [],
   "source": [
    "def train_test(opt, features, label):\n",
    "    X = opt[features]\n",
    "    y = opt[label]\n",
    "    X_train, X_test, y_train, y_test = train_test_split(X, y, test_size=0.30, random_state=42)\n",
    "\n",
    "    #print(f\"Training Size: {len(X_train):,}\")\n",
    "    #print(f\"Testing Size.: {len(X_test):,}\")\n",
    "    return X_train, X_test, y_train, y_test\n",
    "\n",
    "# X_train, X_test, y_train, y_test = build_train_test(opt, cat_features)\n",
    "# pd.concat([X_train, y_train], axis=1, sort=False).head()\n"
   ]
  },
  {
   "cell_type": "code",
   "execution_count": null,
   "metadata": {
    "collapsed": false
   },
   "outputs": [],
   "source": []
  },
  {
   "cell_type": "code",
   "execution_count": 278,
   "metadata": {
    "collapsed": false
   },
   "outputs": [
    {
     "data": {
      "text/plain": [
       "<matplotlib.axes._subplots.AxesSubplot at 0x1c9a5c11898>"
      ]
     },
     "execution_count": 278,
     "metadata": {},
     "output_type": "execute_result"
    },
    {
     "data": {
      "image/png": "[encoded data removed]",
      "text/plain": [
       "<Figure size 432x288 with 1 Axes>"
      ]
     },
     "metadata": {},
     "output_type": "display_data"
    }
   ],
   "source": [
    "bins = len(opt['days_to_close_bucket'].unique())\n",
    "opt['days_to_close_bucket'].hist(bins=bins)"
   ]
  },
  {
   "cell_type": "code",
   "execution_count": 247,
   "metadata": {
    "collapsed": true
   },
   "outputs": [],
   "source": [
    "from sklearn import tree\n",
    "from sklearn.metrics import roc_curve, auc\n",
    "from sklearn.metrics import classification_report\n",
    "from sklearn.metrics import confusion_matrix\n",
    "from sklearn import ensemble\n",
    "from sklearn.ensemble import AdaBoostClassifier\n",
    "from sklearn.model_selection import KFold"
   ]
  },
  {
   "cell_type": "code",
   "execution_count": 317,
   "metadata": {
    "collapsed": false
   },
   "outputs": [
    {
     "name": "stdout",
     "output_type": "stream",
     "text": [
      "AccountId could not convert string to float: '853823F0-92E1-47EB-A075-7C8CDA1AA60D'\n",
      "OpportunityId could not convert string to float: '55FB462F-11ED-E411-80EC-C4346BAD3644'\n",
      "CreatedDate float() argument must be a string or a number, not 'Timestamp'\n",
      "ActualCloseDate float() argument must be a string or a number, not 'Timestamp'\n",
      "EstimatedCloseDate float() argument must be a string or a number, not 'Timestamp'\n",
      "HasCustomerAgreedToBuy Input contains NaN, infinity or a value too large for dtype('float32').\n",
      "EstimatedValue Input contains NaN, infinity or a value too large for dtype('float32').\n",
      "ActualValue Input contains NaN, infinity or a value too large for dtype('float32').\n",
      "AccountCreatedDate float() argument must be a string or a number, not 'Timestamp'\n",
      "IndustryVerticalSeqNo Input contains NaN, infinity or a value too large for dtype('float32').\n",
      "VerticalCategorySeqNo Input contains NaN, infinity or a value too large for dtype('float32').\n",
      "ProdSkid could not convert string to float: '3PJ'\n",
      "ProductNumber could not convert string to float: '3PJ-9825'\n",
      "est_days_to_close Input contains NaN, infinity or a value too large for dtype('float32').\n",
      "days_to_close_bucket multiclass-multioutput is not supported\n",
      "\n",
      " [('actual_days_to_close', 0.997572619313845), ('CreatedById', 0.5404754180459795), ('CreatedMonth', 0.5392008332047199), ('IndustrySeqNo', 0.5343481716426921), ('AccountCreatedYear', 0.5307847935938987), ('EndCustomerSubsegmentSeqNo', 0.5285558449794061), ('ActualValue_bucket', 0.5264140384916223), ('PfamSkid', 0.5242848308655313), ('AccountCity', 0.5134004642680534), ('PoolSeqNo', 0.5095242144872211), ('ProductStructureSeqNo', 0.5095242144872211), ('ProductTypeSeqNo', 0.5095242144872211), ('EndCustomerSegmentSeqNo', 0.46827029177913776)]\n"
     ]
    }
   ],
   "source": [
    "# evaluate single features\n",
    "def train_single_feature(df, feature_name, label):\n",
    "   \n",
    "    df = df[[feature_name, label]].copy()\n",
    "    \n",
    "        \n",
    "    X_train, X_test, y_train, y_test = train_test(df, [feature_name], label)\n",
    "    \n",
    "    model = tree.DecisionTreeClassifier(max_depth=5)\n",
    "    try:\n",
    "        model.fit(X_train, y_train)\n",
    "        acc = model.score(X_test, y_test)\n",
    "        # print(\"Accuracy: {:.4f}\".format(acc))\n",
    "    except Exception as ex:\n",
    "        print(feature_name, ex)\n",
    "        acc = 0\n",
    "        \n",
    "    return acc\n",
    "    \n",
    "def evaluate_features(df, features, label):\n",
    "    \n",
    "    scores = [(f, train_single_feature(df, f, label)) for f in features]\n",
    "    scores = [(f,s) for f,s in scores if s > 0]\n",
    "    scores.sort(reverse=True, key = lambda x: x[1])\n",
    "    return (scores)\n",
    "    \n",
    "columns_to_evaluate = opt.columns\n",
    "\n",
    "label = \"\"\n",
    "scores = evaluate_features(opt, columns_to_evaluate, label=\"days_to_close_bucket\")\n",
    "\n",
    "print(\"\\n\", scores)\n"
   ]
  },
  {
   "cell_type": "code",
   "execution_count": null,
   "metadata": {
    "collapsed": false
   },
   "outputs": [],
   "source": [
    "\n",
    "\n"
   ]
  },
  {
   "cell_type": "code",
   "execution_count": 318,
   "metadata": {
    "collapsed": false
   },
   "outputs": [
    {
     "name": "stdout",
     "output_type": "stream",
     "text": [
      "Features Index(['AccountCity', 'AccountCreatedYear', 'IndustrySeqNo', 'CreatedById',\n",
      "       'EndCustomerSubsegmentSeqNo', 'ActualValue_bucket', 'CreatedMonth',\n",
      "       'PoolSeqNo'],\n",
      "      dtype='object')\n",
      "X_train 2,222,421\n",
      "Accuracy: 0.9195 ***\n",
      "             precision    recall  f1-score   support\n",
      "\n",
      "          0   1.000000  1.000000  1.000000    301041\n",
      "          1   0.823498  0.825223  0.824359     79713\n",
      "          2   0.815709  0.813228  0.814467     72345\n",
      "          3   0.897000  0.894016  0.895506    184264\n",
      "          4   0.907292  0.907561  0.907427    175100\n",
      "          5   0.899671  0.903617  0.901640    140004\n",
      "\n",
      "avg / total   0.919513  0.919522  0.919516    952467\n",
      "\n",
      "[[301041      0      0      0      0      0]\n",
      " [     0  65781   5225   4126   2277   2304]\n",
      " [     0   5428  58833   4197   2050   1837]\n",
      " [     0   4197   4251 164735   6547   4534]\n",
      " [     0   2192   2069   6492 158914   5433]\n",
      " [     0   2282   1747   4101   5364 126510]]\n",
      "{'AccountCity': 0.24404471896850197, 'AccountCreatedYear': 0.0977921010297318, 'IndustrySeqNo': 0.0886864005061848, 'CreatedById': 0.08819547346110256, 'EndCustomerSubsegmentSeqNo': 0.05245503360028518, 'ActualValue_bucket': 0.03406039040717125, 'CreatedMonth': 0.03862895760824143, 'PoolSeqNo': 0.3561369244187809}\n"
     ]
    }
   ],
   "source": [
    "# baseline \n",
    "#cat_features = [\"AccountCity\", 'ProductNumber', \"IndustrySeqNo\", \"CreatedById\", \"EndCustomerSubsegmentSeqNo\", 'ProductStructureSeqNo']\n",
    "cat_features = [\"AccountCity\",  \"AccountCreatedYear\", \"IndustrySeqNo\", \"CreatedById\", \n",
    "                \"EndCustomerSubsegmentSeqNo\", \"ActualValue_bucket\", \"CreatedMonth\", \"PoolSeqNo\"]\n",
    "features = cat_features\n",
    "label = \"days_to_close_bucket\"\n",
    "\n",
    "X_train, X_test, y_train, y_test = train_test(opt, features, label)\n",
    "\n",
    "print(\"Features\", X_train.columns)\n",
    "print(\"X_train {:,}\".format(len(X_train)))\n",
    "\n",
    "params = {'n_estimators': 1200, 'max_depth': 3, 'subsample': 0.5,\n",
    "          'learning_rate': 0.01, 'min_samples_leaf': 1, 'random_state': 3}\n",
    "#model = ensemble.GradientBoostingClassifier(**params)\n",
    "model = tree.DecisionTreeClassifier() #max_depth=2)\n",
    "\n",
    "\n",
    "model.fit(X_train, y_train)\n",
    "\n",
    "acc = model.score(X_test, y_test)\n",
    "\n",
    "print(\"Accuracy: {:.4f} ***\".format(acc))\n",
    "\n",
    "y_pred = model.predict(X_test)\n",
    "\n",
    "sk_report = classification_report(\n",
    "    digits=6,\n",
    "    y_true=y_test, \n",
    "    y_pred=model.predict(X_test))\n",
    "print(sk_report)\n",
    "\n",
    "print(confusion_matrix(y_test, y_pred))\n",
    "\n",
    "print(dict(zip(X_train.columns, model.feature_importances_)))\n"
   ]
  },
  {
   "cell_type": "code",
   "execution_count": null,
   "metadata": {
    "collapsed": false
   },
   "outputs": [],
   "source": []
  },
  {
   "cell_type": "code",
   "execution_count": null,
   "metadata": {
    "collapsed": false
   },
   "outputs": [],
   "source": []
  },
  {
   "cell_type": "code",
   "execution_count": 319,
   "metadata": {
    "collapsed": false
   },
   "outputs": [
    {
     "name": "stdout",
     "output_type": "stream",
     "text": [
      "Features Index(['AccountCity', 'AccountCreatedYear', 'IndustrySeqNo', 'CreatedById',\n",
      "       'EndCustomerSubsegmentSeqNo', 'ActualValue_bucket', 'CreatedMonth'],\n",
      "      dtype='object')\n",
      "X_train 2,222,421\n",
      "Accuracy: 0.9267 ***\n",
      "             precision    recall  f1-score   support\n",
      "\n",
      "          0   1.000000  1.000000  1.000000    301041\n",
      "          1   0.829726  0.853073  0.841237     79713\n",
      "          2   0.851840  0.817458  0.834295     72345\n",
      "          3   0.899593  0.905310  0.902442    184264\n",
      "          4   0.918540  0.913923  0.916226    175100\n",
      "          5   0.908890  0.911395  0.910141    140004\n",
      "\n",
      "avg / total   0.926703  0.926671  0.926644    952467\n",
      "\n",
      "[[301041      0      0      0      0      0]\n",
      " [     0  68001   4080   3975   1754   1903]\n",
      " [     0   5591  59139   4256   1796   1563]\n",
      " [     0   4164   3255 166816   5911   4118]\n",
      " [     0   2037   1641   6187 160028   5207]\n",
      " [     0   2163   1310   4201   4731 127599]]\n",
      "{'AccountCity': 0.2866024941603307, 'AccountCreatedYear': 0.15196614756563, 'IndustrySeqNo': 0.07455054186847151, 'CreatedById': 0.1902618257962618, 'EndCustomerSubsegmentSeqNo': 0.13729618401963087, 'ActualValue_bucket': 0.050579765208686095, 'CreatedMonth': 0.10874304138098909}\n"
     ]
    }
   ],
   "source": [
    "# baseline \n",
    "#cat_features = [\"AccountCity\", 'ProductNumber', \"IndustrySeqNo\", \"CreatedById\", \"EndCustomerSubsegmentSeqNo\", 'ProductStructureSeqNo']\n",
    "\n",
    "cat_features = [\"AccountCity\",  \"AccountCreatedYear\", \"IndustrySeqNo\", \"CreatedById\", \n",
    "                \"EndCustomerSubsegmentSeqNo\", \"ActualValue_bucket\", \"CreatedMonth\"]\n",
    "\n",
    "features = cat_features\n",
    "label = \"days_to_close_bucket\"\n",
    "\n",
    "X_train, X_test, y_train, y_test = train_test(opt, features, label) # .sample(n=1500000)\n",
    "\n",
    "print(\"Features\", X_train.columns)\n",
    "print(\"X_train {:,}\".format(len(X_train)))\n",
    "\n",
    "model = ensemble.RandomForestClassifier(n_estimators=30, n_jobs=-1)\n",
    "\n",
    "model.fit(X_train, y_train)\n",
    "\n",
    "acc = model.score(X_test, y_test)\n",
    "\n",
    "print(\"Accuracy: {:.4f} ***\".format(acc))\n",
    "\n",
    "y_pred = model.predict(X_test)\n",
    "\n",
    "sk_report = classification_report(\n",
    "    digits=6,\n",
    "    y_true=y_test, \n",
    "    y_pred=model.predict(X_test))\n",
    "print(sk_report)\n",
    "\n",
    "print(confusion_matrix(y_test, y_pred))\n",
    "\n",
    "print(dict(zip(X_train.columns, model.feature_importances_)))\n"
   ]
  },
  {
   "cell_type": "code",
   "execution_count": 81,
   "metadata": {
    "collapsed": false
   },
   "outputs": [
    {
     "data": {
      "text/plain": [
       "array([[ 76299,  15792,  16522,  10510,   8305],\n",
       "       [ 18066,  58476,  20564,  12009,   8513],\n",
       "       [ 19198,  22257, 168267,  36473,  21539],\n",
       "       [ 12355,  13945,  41738, 146200,  29415],\n",
       "       [ 10429,   9843,  25736,  34715, 115301]], dtype=int64)"
      ]
     },
     "execution_count": 81,
     "metadata": {},
     "output_type": "execute_result"
    }
   ],
   "source": [
    "confusion_matrix(y_test, y_pred)"
   ]
  },
  {
   "cell_type": "code",
   "execution_count": 232,
   "metadata": {
    "collapsed": false
   },
   "outputs": [
    {
     "name": "stdout",
     "output_type": "stream",
     "text": [
      "{'AccountCity': 0.6032746490958393, 'IndustrySeqNo': 0.0951403093935618, 'CreatedById': 0.22808020554743322, 'EndCustomerSubsegmentSeqNo': 0.0481908062279615, 'ActualValue_bucket': 0.02531402973520418}\n"
     ]
    }
   ],
   "source": [
    "#model.feature_importances_\n",
    "print(dict(zip(X_train.columns, model.feature_importances_)))"
   ]
  }
 ],
 "metadata": {
  "kernelspec": {
   "display_name": "Python 3",
   "language": "python",
   "name": "python3"
  },
  "language_info": {
   "codemirror_mode": {
    "name": "ipython",
    "version": 3
   },
   "file_extension": ".py",
   "mimetype": "text/x-python",
   "name": "python",
   "nbconvert_exporter": "python",
   "pygments_lexer": "ipython3",
   "version": "3.6.5"
  }
 },
 "nbformat": 4,
 "nbformat_minor": 2
}
