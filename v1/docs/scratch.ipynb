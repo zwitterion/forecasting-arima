{
 "cells": [
  {
   "cell_type": "code",
   "execution_count": null,
   "metadata": {
    "collapsed": true
   },
   "outputs": [],
   "source": [
    "from sklearn import datasets, linear_model\n",
    "from sklearn.metrics import mean_squared_error, r2_score\n",
    "\n",
    "def reg_model():\n",
    "    # Create linear regression object\n",
    "    regr = linear_model.LinearRegression(normalize=True)\n",
    "    #regr = linear_model.Ridge()\n",
    "\n",
    "    # Train the model using the training sets\n",
    "    regr.fit(X_train, y_train)\n",
    "\n",
    "    # Make predictions using the testing set\n",
    "    y_pred = regr.predict(X_test)\n",
    "\n",
    "    # The coefficients\n",
    "    print('Coefficients: \\n', regr.coef_)\n",
    "    # The mean squared error\n",
    "    print(\"Mean squared error: %.2f\"\n",
    "          % mean_squared_error(y_test, y_pred))\n",
    "    # Explained variance score: 1 is perfect prediction\n",
    "    print('Variance score: %.2f' % r2_score(y_test, y_pred))\n",
    "    y_pred"
   ]
  },
  {
   "cell_type": "code",
   "execution_count": null,
   "metadata": {
    "collapsed": true
   },
   "outputs": [],
   "source": [
    " \n",
    "#cat_features = [\"AccountCity\", 'ProductNumber', \"IndustrySeqNo\", \"CreatedById\", \"EndCustomerSubsegmentSeqNo\", \n",
    "#                'ProductStructureSeqNo', 'ActualValue_bucket', \"AccountCreatedYear\"]\n",
    "cat_features = [\"AccountCity\",  \"AccountCreatedYear\", \"IndustrySeqNo\", \"CreatedById\", \"EndCustomerSubsegmentSeqNo\", \"ActualValue_bucket\"]\n",
    "\n",
    "features = cat_features\n",
    "label = \"days_to_close_bucket\"\n",
    "\n",
    "\n",
    "X_train, X_test, y_train, y_test = train_test(opt.sample(n=500000), features, label)\n",
    "\n",
    "print(\"Features\", X_train.columns)\n",
    "print(\"X_train {:,}\".format(len(X_train)))\n",
    "\n",
    "params = {'n_estimators': 1200, 'max_depth': 3, 'subsample': 0.5,\n",
    "          'learning_rate': 0.01, 'min_samples_leaf': 1, 'random_state': 3}\n",
    "#model = ensemble.GradientBoostingClassifier(**params)\n",
    "model = ensemble.GradientBoostingClassifier(n_estimators=400, max_depth=3, learning_rate=0.18) #, criterion=\"mse\")\n",
    "#model = ensemble.AdaBoostClassifier()\n",
    "\n",
    "model.fit(X_train, y_train)\n",
    "\n",
    "acc = model.score(X_test, y_test)\n",
    "\n",
    "print(\"Accuracy: {:.4f} ***\".format(acc))\n",
    "\n",
    "y_pred = model.predict(X_test)\n",
    "\n",
    "sk_report = classification_report(\n",
    "    digits=6,\n",
    "    y_true=y_test, \n",
    "    y_pred=model.predict(X_test))\n",
    "print(sk_report)\n",
    "\n",
    "print(confusion_matrix(y_test, y_pred))\n",
    "\n",
    "print(\"Feature Importance:\")\n",
    "print(dict(zip(X_train.columns, model.feature_importances_)))\n",
    "\n"
   ]
  }
 ],
 "metadata": {
  "kernelspec": {
   "display_name": "Python 3",
   "language": "python",
   "name": "python3"
  },
  "language_info": {
   "codemirror_mode": {
    "name": "ipython",
    "version": 3
   },
   "file_extension": ".py",
   "mimetype": "text/x-python",
   "name": "python",
   "nbconvert_exporter": "python",
   "pygments_lexer": "ipython3",
   "version": "3.6.5"
  }
 },
 "nbformat": 4,
 "nbformat_minor": 2
}
