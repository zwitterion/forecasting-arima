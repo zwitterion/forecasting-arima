{
 "cells": [
  {
   "cell_type": "code",
   "execution_count": 1,
   "metadata": {
    "collapsed": true
   },
   "outputs": [],
   "source": [
    "%matplotlib inline\n",
    "import numpy as np\n",
    "import matplotlib.pyplot as plt\n",
    "import pandas as pd\n",
    "import datetime\n",
    "import calendar\n",
    "import random \n",
    "import seaborn as sn\n",
    "import itertools\n",
    "from dateutil.parser import parse\n",
    "\n",
    "from sklearn.model_selection import train_test_split"
   ]
  },
  {
   "cell_type": "markdown",
   "metadata": {},
   "source": [
    "!chcp 65001\n",
    "!sqlcmd -f 65001 -S tsc-backend-eastus.database.windows.net -U tscadmin -P FI])U6EiM5QMrmG -d shallowcopy-sdh -s\"|\" -k1 -W -Q \"SELECT o.AccountId, o.OpportunityId , o.CreatedDate, o.ActualCloseDate, o.EstimatedCloseDate, HasCustomerAgreedToBuy, o.CreatedById, o.EstimatedValue, o.ActualValue, a.CreatedDate as AccountCreatedDate, a.City as AccountCity, a.EndCustomerSegmentSeqNo, a.EndCustomerSubsegmentSeqNo, a.IndustrySeqNo, a.IndustryVerticalSeqNo, a.VerticalCategorySeqNo, p.PfamSkid, p.PoolSeqNo, p.ProdSkid, p.ProductNumber, p.ProductStructureSeqNo, p.ProductTypeSeqNo FROM [dbo].[Hub_vw_Opportunity] o (nolock) JOIN [dbo].[Hub_vw_OpportunityProduct] op (nolock) on op.OpportunityId = o.OpportunityId JOIN [dbo].[Hub_vw_Product] p (nolock) on op.ProductId = p.ProductId JOIN [dbo].[Hub_vw_Account] a (nolock) on o.AccountId = a.AccountId WHERE a.Country = 'United States' and a.CurrencyId = 'FF2971D7-B412-E411-8D49-6C3BE5A82B68' \" >oppty_join.csv\n"
   ]
  },
  {
   "cell_type": "code",
   "execution_count": 2,
   "metadata": {
    "collapsed": false
   },
   "outputs": [
    {
     "name": "stderr",
     "output_type": "stream",
     "text": [
      "D:\\Anaconda2\\envs\\py36\\lib\\site-packages\\IPython\\core\\interactiveshell.py:2785: DtypeWarning: Columns (16) have mixed types. Specify dtype option on import or set low_memory=False.\n",
      "  interactivity=interactivity, compiler=compiler, result=result)\n"
     ]
    },
    {
     "name": "stdout",
     "output_type": "stream",
     "text": [
      "dropped negative close dates and date very distant:  61046\n",
      "dropped:  49488\n",
      "dropped actual days=0:  1370431\n"
     ]
    }
   ],
   "source": [
    "   \n",
    "#opt = pd.read_csv(\"d:/repos/forecast/data/oppty_join.csv\", sep=\"|\", skiprows=[1], error_bad_lines=True, encoding='iso-8859-1')\n",
    "date_columns = ['CreatedDate', 'EstimatedCloseDate','ActualCloseDate', 'AccountCreatedDate']\n",
    "\n",
    "opt = pd.read_csv(\"d:/repos/forecast/data/oppty_join.csv\", sep=\"|\", skiprows=[1], parse_dates=date_columns)#, , date_parser = xplow_memory=False)\n",
    "#opt.dropna(inplace=True)\n",
    "opt[\"EstimatedCloseDate\"] = pd.to_datetime(opt['EstimatedCloseDate'], errors=\"coerce\")\n",
    "\n",
    "opt[\"actual_days_to_close\"] = (opt['ActualCloseDate'] - opt['CreatedDate']).astype('timedelta64[D]')\n",
    "opt[\"est_days_to_close\"] = (opt['EstimatedCloseDate'] - opt['CreatedDate']).astype('timedelta64[D]')\n",
    "\n",
    "l = len(opt)\n",
    "opt.drop( opt[(opt['actual_days_to_close'] > 365*5)].index, inplace=True)\n",
    "opt.drop( opt[(opt['actual_days_to_close'] < 0)].index, inplace=True)\n",
    "print('dropped negative close dates and date very distant: ', l-len(opt))\n",
    "l = len(opt)\n",
    "opt.drop( opt[(opt['est_days_to_close'] > 365*5)].index, inplace=True)\n",
    "opt.drop( opt[(opt['est_days_to_close'] < 0)].index, inplace=True)\n",
    "print('dropped: ', l-len(opt))\n",
    "\n",
    "opt[\"AccountCreatedYear\"] = opt[\"AccountCreatedDate\"].apply(lambda x: x.year)\n",
    "opt[\"CreatedMonth\"] = opt[\"CreatedDate\"].apply(lambda x: x.month)\n",
    "opt[opt[\"PoolSeqNo\"].isna()] = 0\n",
    "\n",
    "l = len(opt)\n",
    "# if oppty closed the same date it was created there is no need to predict that date\n",
    "opt = opt[opt['actual_days_to_close'] > 0]\n",
    "print('dropped actual days=0: ', l-len(opt))\n",
    "\n",
    "opt.loc[opt[\"AccountCity\"].isna(), [\"AccountCity\"]] = \"nan\"\n",
    "opt.loc[opt[\"IndustrySeqNo\"].isna(), [\"IndustrySeqNo\"]] = \"nan\"\n",
    "\n"
   ]
  },
  {
   "cell_type": "code",
   "execution_count": null,
   "metadata": {
    "collapsed": false
   },
   "outputs": [],
   "source": []
  },
  {
   "cell_type": "code",
   "execution_count": 3,
   "metadata": {
    "collapsed": false
   },
   "outputs": [
    {
     "data": {
      "text/html": [
       "<div>\n",
       "<style scoped>\n",
       "    .dataframe tbody tr th:only-of-type {\n",
       "        vertical-align: middle;\n",
       "    }\n",
       "\n",
       "    .dataframe tbody tr th {\n",
       "        vertical-align: top;\n",
       "    }\n",
       "\n",
       "    .dataframe thead th {\n",
       "        text-align: right;\n",
       "    }\n",
       "</style>\n",
       "<table border=\"1\" class=\"dataframe\">\n",
       "  <thead>\n",
       "    <tr style=\"text-align: right;\">\n",
       "      <th></th>\n",
       "      <th>HasCustomerAgreedToBuy</th>\n",
       "      <th>EstimatedValue</th>\n",
       "      <th>ActualValue</th>\n",
       "      <th>EndCustomerSegmentSeqNo</th>\n",
       "      <th>EndCustomerSubsegmentSeqNo</th>\n",
       "      <th>IndustryVerticalSeqNo</th>\n",
       "      <th>VerticalCategorySeqNo</th>\n",
       "      <th>PoolSeqNo</th>\n",
       "      <th>ProductStructureSeqNo</th>\n",
       "      <th>ProductTypeSeqNo</th>\n",
       "      <th>actual_days_to_close</th>\n",
       "      <th>est_days_to_close</th>\n",
       "      <th>AccountCreatedYear</th>\n",
       "      <th>CreatedMonth</th>\n",
       "      <th>days_to_close_bucket</th>\n",
       "    </tr>\n",
       "  </thead>\n",
       "  <tbody>\n",
       "    <tr>\n",
       "      <th>count</th>\n",
       "      <td>1.592264e+06</td>\n",
       "      <td>2.163602e+06</td>\n",
       "      <td>2.011895e+06</td>\n",
       "      <td>2.163658e+06</td>\n",
       "      <td>2.163658e+06</td>\n",
       "      <td>2.131062e+06</td>\n",
       "      <td>2.131067e+06</td>\n",
       "      <td>2.163658e+06</td>\n",
       "      <td>2163658.0</td>\n",
       "      <td>2163658.0</td>\n",
       "      <td>2.163658e+06</td>\n",
       "      <td>2.159729e+06</td>\n",
       "      <td>2.163658e+06</td>\n",
       "      <td>2.163658e+06</td>\n",
       "      <td>2.163658e+06</td>\n",
       "    </tr>\n",
       "    <tr>\n",
       "      <th>mean</th>\n",
       "      <td>2.991966e-03</td>\n",
       "      <td>4.292855e+05</td>\n",
       "      <td>4.079821e+05</td>\n",
       "      <td>5.081768e+03</td>\n",
       "      <td>5.158744e+03</td>\n",
       "      <td>5.076633e+02</td>\n",
       "      <td>1.811047e+02</td>\n",
       "      <td>5.618930e+02</td>\n",
       "      <td>3084.0</td>\n",
       "      <td>334.0</td>\n",
       "      <td>2.481201e+02</td>\n",
       "      <td>2.508111e+02</td>\n",
       "      <td>2.003912e+03</td>\n",
       "      <td>5.424129e+00</td>\n",
       "      <td>3.351628e+00</td>\n",
       "    </tr>\n",
       "    <tr>\n",
       "      <th>std</th>\n",
       "      <td>5.461700e-02</td>\n",
       "      <td>7.296680e+06</td>\n",
       "      <td>2.706817e+06</td>\n",
       "      <td>1.462755e+00</td>\n",
       "      <td>2.382347e+02</td>\n",
       "      <td>1.172074e+03</td>\n",
       "      <td>7.066059e+02</td>\n",
       "      <td>6.447971e-01</td>\n",
       "      <td>0.0</td>\n",
       "      <td>0.0</td>\n",
       "      <td>1.666852e+02</td>\n",
       "      <td>1.557719e+02</td>\n",
       "      <td>5.215266e+00</td>\n",
       "      <td>2.914334e+00</td>\n",
       "      <td>1.263927e+00</td>\n",
       "    </tr>\n",
       "    <tr>\n",
       "      <th>min</th>\n",
       "      <td>0.000000e+00</td>\n",
       "      <td>0.000000e+00</td>\n",
       "      <td>0.000000e+00</td>\n",
       "      <td>5.080000e+03</td>\n",
       "      <td>5.087000e+03</td>\n",
       "      <td>1.970000e+02</td>\n",
       "      <td>1.100000e+01</td>\n",
       "      <td>5.610000e+02</td>\n",
       "      <td>3084.0</td>\n",
       "      <td>334.0</td>\n",
       "      <td>1.000000e+00</td>\n",
       "      <td>0.000000e+00</td>\n",
       "      <td>1.998000e+03</td>\n",
       "      <td>1.000000e+00</td>\n",
       "      <td>1.000000e+00</td>\n",
       "    </tr>\n",
       "    <tr>\n",
       "      <th>25%</th>\n",
       "      <td>0.000000e+00</td>\n",
       "      <td>1.168300e+04</td>\n",
       "      <td>1.144920e+03</td>\n",
       "      <td>5.080000e+03</td>\n",
       "      <td>5.090000e+03</td>\n",
       "      <td>2.110000e+02</td>\n",
       "      <td>3.800000e+01</td>\n",
       "      <td>5.620000e+02</td>\n",
       "      <td>3084.0</td>\n",
       "      <td>334.0</td>\n",
       "      <td>1.260000e+02</td>\n",
       "      <td>1.370000e+02</td>\n",
       "      <td>2.000000e+03</td>\n",
       "      <td>3.000000e+00</td>\n",
       "      <td>3.000000e+00</td>\n",
       "    </tr>\n",
       "    <tr>\n",
       "      <th>50%</th>\n",
       "      <td>0.000000e+00</td>\n",
       "      <td>5.324900e+04</td>\n",
       "      <td>4.020072e+04</td>\n",
       "      <td>5.082000e+03</td>\n",
       "      <td>5.097000e+03</td>\n",
       "      <td>2.260000e+02</td>\n",
       "      <td>8.100000e+01</td>\n",
       "      <td>5.620000e+02</td>\n",
       "      <td>3084.0</td>\n",
       "      <td>334.0</td>\n",
       "      <td>2.320000e+02</td>\n",
       "      <td>2.410000e+02</td>\n",
       "      <td>2.002000e+03</td>\n",
       "      <td>4.000000e+00</td>\n",
       "      <td>3.000000e+00</td>\n",
       "    </tr>\n",
       "    <tr>\n",
       "      <th>75%</th>\n",
       "      <td>0.000000e+00</td>\n",
       "      <td>1.917090e+05</td>\n",
       "      <td>1.755480e+05</td>\n",
       "      <td>5.082000e+03</td>\n",
       "      <td>5.099000e+03</td>\n",
       "      <td>2.440000e+02</td>\n",
       "      <td>1.190000e+02</td>\n",
       "      <td>5.620000e+02</td>\n",
       "      <td>3084.0</td>\n",
       "      <td>334.0</td>\n",
       "      <td>3.430000e+02</td>\n",
       "      <td>3.390000e+02</td>\n",
       "      <td>2.007000e+03</td>\n",
       "      <td>8.000000e+00</td>\n",
       "      <td>4.000000e+00</td>\n",
       "    </tr>\n",
       "    <tr>\n",
       "      <th>max</th>\n",
       "      <td>1.000000e+00</td>\n",
       "      <td>9.900000e+09</td>\n",
       "      <td>3.375000e+08</td>\n",
       "      <td>5.086000e+03</td>\n",
       "      <td>6.057000e+03</td>\n",
       "      <td>6.106000e+03</td>\n",
       "      <td>5.410000e+03</td>\n",
       "      <td>5.640000e+02</td>\n",
       "      <td>3084.0</td>\n",
       "      <td>334.0</td>\n",
       "      <td>1.825000e+03</td>\n",
       "      <td>1.825000e+03</td>\n",
       "      <td>2.018000e+03</td>\n",
       "      <td>1.200000e+01</td>\n",
       "      <td>5.000000e+00</td>\n",
       "    </tr>\n",
       "  </tbody>\n",
       "</table>\n",
       "</div>"
      ],
      "text/plain": [
       "       HasCustomerAgreedToBuy  EstimatedValue   ActualValue  \\\n",
       "count            1.592264e+06    2.163602e+06  2.011895e+06   \n",
       "mean             2.991966e-03    4.292855e+05  4.079821e+05   \n",
       "std              5.461700e-02    7.296680e+06  2.706817e+06   \n",
       "min              0.000000e+00    0.000000e+00  0.000000e+00   \n",
       "25%              0.000000e+00    1.168300e+04  1.144920e+03   \n",
       "50%              0.000000e+00    5.324900e+04  4.020072e+04   \n",
       "75%              0.000000e+00    1.917090e+05  1.755480e+05   \n",
       "max              1.000000e+00    9.900000e+09  3.375000e+08   \n",
       "\n",
       "       EndCustomerSegmentSeqNo  EndCustomerSubsegmentSeqNo  \\\n",
       "count             2.163658e+06                2.163658e+06   \n",
       "mean              5.081768e+03                5.158744e+03   \n",
       "std               1.462755e+00                2.382347e+02   \n",
       "min               5.080000e+03                5.087000e+03   \n",
       "25%               5.080000e+03                5.090000e+03   \n",
       "50%               5.082000e+03                5.097000e+03   \n",
       "75%               5.082000e+03                5.099000e+03   \n",
       "max               5.086000e+03                6.057000e+03   \n",
       "\n",
       "       IndustryVerticalSeqNo  VerticalCategorySeqNo     PoolSeqNo  \\\n",
       "count           2.131062e+06           2.131067e+06  2.163658e+06   \n",
       "mean            5.076633e+02           1.811047e+02  5.618930e+02   \n",
       "std             1.172074e+03           7.066059e+02  6.447971e-01   \n",
       "min             1.970000e+02           1.100000e+01  5.610000e+02   \n",
       "25%             2.110000e+02           3.800000e+01  5.620000e+02   \n",
       "50%             2.260000e+02           8.100000e+01  5.620000e+02   \n",
       "75%             2.440000e+02           1.190000e+02  5.620000e+02   \n",
       "max             6.106000e+03           5.410000e+03  5.640000e+02   \n",
       "\n",
       "       ProductStructureSeqNo  ProductTypeSeqNo  actual_days_to_close  \\\n",
       "count              2163658.0         2163658.0          2.163658e+06   \n",
       "mean                  3084.0             334.0          2.481201e+02   \n",
       "std                      0.0               0.0          1.666852e+02   \n",
       "min                   3084.0             334.0          1.000000e+00   \n",
       "25%                   3084.0             334.0          1.260000e+02   \n",
       "50%                   3084.0             334.0          2.320000e+02   \n",
       "75%                   3084.0             334.0          3.430000e+02   \n",
       "max                   3084.0             334.0          1.825000e+03   \n",
       "\n",
       "       est_days_to_close  AccountCreatedYear  CreatedMonth  \\\n",
       "count       2.159729e+06        2.163658e+06  2.163658e+06   \n",
       "mean        2.508111e+02        2.003912e+03  5.424129e+00   \n",
       "std         1.557719e+02        5.215266e+00  2.914334e+00   \n",
       "min         0.000000e+00        1.998000e+03  1.000000e+00   \n",
       "25%         1.370000e+02        2.000000e+03  3.000000e+00   \n",
       "50%         2.410000e+02        2.002000e+03  4.000000e+00   \n",
       "75%         3.390000e+02        2.007000e+03  8.000000e+00   \n",
       "max         1.825000e+03        2.018000e+03  1.200000e+01   \n",
       "\n",
       "       days_to_close_bucket  \n",
       "count          2.163658e+06  \n",
       "mean           3.351628e+00  \n",
       "std            1.263927e+00  \n",
       "min            1.000000e+00  \n",
       "25%            3.000000e+00  \n",
       "50%            3.000000e+00  \n",
       "75%            4.000000e+00  \n",
       "max            5.000000e+00  "
      ]
     },
     "execution_count": 3,
     "metadata": {},
     "output_type": "execute_result"
    }
   ],
   "source": [
    "def bucket_days(x):\n",
    "    if (x < 60): return 1\n",
    "    if (x < 120): return 2\n",
    "    if (x < 240): return 3\n",
    "    if (x < 365): return 4\n",
    "    return 5\n",
    "\n",
    "opt['days_to_close_bucket'] = opt['actual_days_to_close'].apply(lambda x: bucket_days(x))\n",
    "\n",
    "opt.describe()"
   ]
  },
  {
   "cell_type": "code",
   "execution_count": 4,
   "metadata": {
    "collapsed": false
   },
   "outputs": [
    {
     "name": "stdout",
     "output_type": "stream",
     "text": [
      "[1.000e+00 6.200e+01 1.260e+02 1.830e+02 2.320e+02 2.830e+02 3.430e+02\n",
      " 4.280e+02 1.825e+03]\n"
     ]
    },
    {
     "data": {
      "image/png": "[encoded data removed]",
      "text/plain": [
       "<Figure size 432x288 with 1 Axes>"
      ]
     },
     "metadata": {},
     "output_type": "display_data"
    },
    {
     "data": {
      "image/png": "[encoded data removed]",
      "text/plain": [
       "<Figure size 432x288 with 1 Axes>"
      ]
     },
     "metadata": {},
     "output_type": "display_data"
    }
   ],
   "source": [
    "qc = pd.qcut(opt['actual_days_to_close'].values, q=8, duplicates='drop', retbins=True)\n",
    "bins = qc[1][0:]\n",
    "plt.hist(opt['actual_days_to_close'], bins=bins,facecolor='orange', alpha=0.75, histtype='bar', ec='black')\n",
    "\n",
    "\n",
    "def bucket_days2(x):\n",
    "    r = np.where(bins>=x)[0]\n",
    "    return r[0] if len(r)>0 else len(bins)\n",
    "\n",
    "opt['days_to_close_bucket'] = opt['actual_days_to_close'].apply(lambda x: bucket_days2(x))\n",
    "\n",
    "plt.figure()\n",
    "opt['days_to_close_bucket'].hist( histtype='bar', ec='black')\n",
    "print(bins)\n",
    "\n"
   ]
  },
  {
   "cell_type": "code",
   "execution_count": null,
   "metadata": {
    "collapsed": false
   },
   "outputs": [],
   "source": []
  },
  {
   "cell_type": "code",
   "execution_count": 5,
   "metadata": {
    "collapsed": false
   },
   "outputs": [
    {
     "data": {
      "text/plain": [
       "array([1, 2, 4, 5, 3], dtype=int64)"
      ]
     },
     "execution_count": 5,
     "metadata": {},
     "output_type": "execute_result"
    },
    {
     "data": {
      "image/png": "[encoded data removed]",
      "text/plain": [
       "<Figure size 432x288 with 1 Axes>"
      ]
     },
     "metadata": {},
     "output_type": "display_data"
    }
   ],
   "source": [
    "def bucket_value(x):\n",
    "    if (x == np.nan): return 1\n",
    "    if (x <=0): return 1\n",
    "    if (x < 1E4): return 2\n",
    "    if (x < 1E5): return 3\n",
    "    if (x < 1E6): return 4\n",
    "    if (x < 1E7): return 5\n",
    "    return 5\n",
    "\n",
    "opt['ActualValue_bucket'] = opt['ActualValue'].apply(lambda x: bucket_value(x))\n",
    "\n",
    "\n",
    "opt['ActualValue_bucket'].hist(bins=len(opt['ActualValue_bucket'].unique()))\n",
    "opt['ActualValue_bucket'].unique()"
   ]
  },
  {
   "cell_type": "code",
   "execution_count": 6,
   "metadata": {
    "collapsed": false
   },
   "outputs": [
    {
     "data": {
      "text/plain": [
       "Index(['AccountId', 'OpportunityId', 'CreatedDate', 'ActualCloseDate',\n",
       "       'EstimatedCloseDate', 'HasCustomerAgreedToBuy', 'CreatedById',\n",
       "       'EstimatedValue', 'ActualValue', 'AccountCreatedDate', 'AccountCity',\n",
       "       'EndCustomerSegmentSeqNo', 'EndCustomerSubsegmentSeqNo',\n",
       "       'IndustrySeqNo', 'IndustryVerticalSeqNo', 'VerticalCategorySeqNo',\n",
       "       'PfamSkid', 'PoolSeqNo', 'ProdSkid', 'ProductNumber',\n",
       "       'ProductStructureSeqNo', 'ProductTypeSeqNo', 'actual_days_to_close',\n",
       "       'est_days_to_close', 'AccountCreatedYear', 'CreatedMonth',\n",
       "       'days_to_close_bucket', 'ActualValue_bucket'],\n",
       "      dtype='object')"
      ]
     },
     "execution_count": 6,
     "metadata": {},
     "output_type": "execute_result"
    }
   ],
   "source": [
    "opt.columns"
   ]
  },
  {
   "cell_type": "code",
   "execution_count": null,
   "metadata": {
    "collapsed": false
   },
   "outputs": [],
   "source": []
  },
  {
   "cell_type": "code",
   "execution_count": 7,
   "metadata": {
    "collapsed": false
   },
   "outputs": [
    {
     "data": {
      "text/plain": [
       "array([[<matplotlib.axes._subplots.AxesSubplot object at 0x0000023957009A90>,\n",
       "        <matplotlib.axes._subplots.AxesSubplot object at 0x000002395277E898>,\n",
       "        <matplotlib.axes._subplots.AxesSubplot object at 0x000002394F7565C0>],\n",
       "       [<matplotlib.axes._subplots.AxesSubplot object at 0x000002394DA70630>,\n",
       "        <matplotlib.axes._subplots.AxesSubplot object at 0x000002394C02FBE0>,\n",
       "        <matplotlib.axes._subplots.AxesSubplot object at 0x000002394C02F3C8>],\n",
       "       [<matplotlib.axes._subplots.AxesSubplot object at 0x000002394912EB00>,\n",
       "        <matplotlib.axes._subplots.AxesSubplot object at 0x00000239477B4A90>,\n",
       "        <matplotlib.axes._subplots.AxesSubplot object at 0x0000023945A61DD8>]],\n",
       "      dtype=object)"
      ]
     },
     "execution_count": 7,
     "metadata": {},
     "output_type": "execute_result"
    },
    {
     "data": {
      "image/png": "[encoded data removed]",
      "text/plain": [
       "<Figure size 1296x720 with 9 Axes>"
      ]
     },
     "metadata": {},
     "output_type": "display_data"
    }
   ],
   "source": [
    "categorical_columns = ['HasCustomerAgreedToBuy', 'AccountCity',\n",
    "       'EndCustomerSegmentSeqNo', 'EndCustomerSubsegmentSeqNo',\n",
    "       'IndustrySeqNo', 'IndustryVerticalSeqNo', 'VerticalCategorySeqNo',\n",
    "       'PfamSkid', 'PoolSeqNo', 'ProdSkid', 'ProductNumber',\n",
    "       'ProductStructureSeqNo', 'ProductTypeSeqNo']\n",
    "\n",
    "opt[categorical_columns].hist(figsize=(18,10))"
   ]
  },
  {
   "cell_type": "code",
   "execution_count": null,
   "metadata": {
    "collapsed": false
   },
   "outputs": [],
   "source": []
  },
  {
   "cell_type": "code",
   "execution_count": 8,
   "metadata": {
    "collapsed": false
   },
   "outputs": [
    {
     "data": {
      "text/plain": [
       "562.0    1446003\n",
       "561.0     509021\n",
       "563.0     139740\n",
       "564.0      68894\n",
       "Name: PoolSeqNo, dtype: int64"
      ]
     },
     "execution_count": 8,
     "metadata": {},
     "output_type": "execute_result"
    }
   ],
   "source": [
    "opt[\"PoolSeqNo\"].value_counts()"
   ]
  },
  {
   "cell_type": "code",
   "execution_count": 9,
   "metadata": {
    "collapsed": false
   },
   "outputs": [
    {
     "data": {
      "text/plain": [
       "<matplotlib.axes._subplots.AxesSubplot at 0x23928e96dd8>"
      ]
     },
     "execution_count": 9,
     "metadata": {},
     "output_type": "execute_result"
    },
    {
     "data": {
      "image/png": "[encoded data removed]",
      "text/plain": [
       "<Figure size 864x720 with 1 Axes>"
      ]
     },
     "metadata": {},
     "output_type": "display_data"
    },
    {
     "data": {
      "image/png": "[encoded data removed]",
      "text/plain": [
       "<Figure size 432x288 with 1 Axes>"
      ]
     },
     "metadata": {},
     "output_type": "display_data"
    }
   ],
   "source": [
    "#opt[ ['est_days_to_close', 'actual_days_to_close']]\n",
    "\n",
    "plt.figure(figsize=(12,10))\n",
    "plt.title(\"actual_days_to_close\")\n",
    "opt['actual_days_to_close'].hist(label='x', bins=50)\n",
    "plt.figure()\n",
    "plt.title(\"est_days_to_close\")\n",
    "opt['est_days_to_close'].hist()"
   ]
  },
  {
   "cell_type": "code",
   "execution_count": 10,
   "metadata": {
    "collapsed": false
   },
   "outputs": [],
   "source": [
    "categorical_columns = ['CreatedById', 'AccountCity',\n",
    "       'EndCustomerSegmentSeqNo', 'EndCustomerSubsegmentSeqNo',\n",
    "       'IndustrySeqNo', 'IndustryVerticalSeqNo', 'VerticalCategorySeqNo',\n",
    "       'PfamSkid', 'PoolSeqNo', 'ProdSkid', 'ProductNumber',\n",
    "       'ProductStructureSeqNo', 'ProductTypeSeqNo']\n",
    "\n",
    "def featurize(opt, cat_features):\n",
    "    for f in cat_features:\n",
    "        opt[f] = opt[f].astype('category')\n",
    "\n",
    "    opt[cat_features] = opt[cat_features].apply(lambda x: x.cat.codes)\n",
    "\n",
    "    opt = opt.drop( opt[opt[\"actual_days_to_close\"].isna()].index )\n",
    "\n",
    "    return opt\n",
    "\n",
    "opt = featurize(opt, categorical_columns)"
   ]
  },
  {
   "cell_type": "code",
   "execution_count": 11,
   "metadata": {
    "collapsed": false
   },
   "outputs": [],
   "source": [
    "def train_test(opt, features, label):\n",
    "    X = opt[features]\n",
    "    y = opt[label]\n",
    "    X_train, X_test, y_train, y_test = train_test_split(X, y, test_size=0.30, random_state=42)\n",
    "\n",
    "    #print(f\"Training Size: {len(X_train):,}\")\n",
    "    #print(f\"Testing Size.: {len(X_test):,}\")\n",
    "    return X_train, X_test, y_train, y_test\n",
    "\n",
    "# X_train, X_test, y_train, y_test = build_train_test(opt, cat_features)\n",
    "# pd.concat([X_train, y_train], axis=1, sort=False).head()\n"
   ]
  },
  {
   "cell_type": "code",
   "execution_count": 12,
   "metadata": {
    "collapsed": false
   },
   "outputs": [
    {
     "data": {
      "text/plain": [
       "dtype('int16')"
      ]
     },
     "execution_count": 12,
     "metadata": {},
     "output_type": "execute_result"
    }
   ],
   "source": [
    "opt[\"CreatedById\"].dtype"
   ]
  },
  {
   "cell_type": "code",
   "execution_count": 13,
   "metadata": {
    "collapsed": false
   },
   "outputs": [
    {
     "data": {
      "text/plain": [
       "<matplotlib.axes._subplots.AxesSubplot at 0x2395c073358>"
      ]
     },
     "execution_count": 13,
     "metadata": {},
     "output_type": "execute_result"
    },
    {
     "data": {
      "image/png": "[encoded data removed]",
      "text/plain": [
       "<Figure size 432x288 with 1 Axes>"
      ]
     },
     "metadata": {},
     "output_type": "display_data"
    }
   ],
   "source": [
    "nbins = len(opt['days_to_close_bucket'].unique())\n",
    "opt['days_to_close_bucket'].hist(bins=nbins)"
   ]
  },
  {
   "cell_type": "code",
   "execution_count": 14,
   "metadata": {
    "collapsed": true
   },
   "outputs": [],
   "source": [
    "from sklearn import tree\n",
    "from sklearn.metrics import roc_curve, auc\n",
    "from sklearn.metrics import classification_report\n",
    "from sklearn.metrics import confusion_matrix\n",
    "from sklearn import ensemble\n",
    "from sklearn.ensemble import AdaBoostClassifier\n",
    "from sklearn.model_selection import KFold\n",
    "from sklearn.dummy import DummyClassifier"
   ]
  },
  {
   "cell_type": "code",
   "execution_count": 15,
   "metadata": {
    "collapsed": false
   },
   "outputs": [
    {
     "name": "stdout",
     "output_type": "stream",
     "text": [
      "Error:  AccountId could not convert string to float: 'AAE29AEA-1EE0-4684-BAF9-1E91489184ED'\n",
      "Error:  OpportunityId could not convert string to float: 'F2BAA4A9-A7D5-4EB1-8DE9-7AE23A0AA5DC'\n",
      "Error:  CreatedDate float() argument must be a string or a number, not 'Timestamp'\n",
      "Error:  ActualCloseDate float() argument must be a string or a number, not 'Timestamp'\n",
      "Error:  EstimatedCloseDate float() argument must be a string or a number, not 'Timestamp'\n",
      "Error:  HasCustomerAgreedToBuy Input contains NaN, infinity or a value too large for dtype('float32').\n",
      "Error:  EstimatedValue Input contains NaN, infinity or a value too large for dtype('float32').\n",
      "Error:  ActualValue Input contains NaN, infinity or a value too large for dtype('float32').\n",
      "Error:  AccountCreatedDate float() argument must be a string or a number, not 'Timestamp'\n",
      "Error:  est_days_to_close Input contains NaN, infinity or a value too large for dtype('float32').\n",
      "Error:  days_to_close_bucket multiclass-multioutput is not supported\n",
      "\n",
      "\n"
     ]
    },
    {
     "data": {
      "text/plain": [
       "[('actual_days_to_close', 0.8731932620343923),\n",
       " ('CreatedMonth', 0.2091024775919815),\n",
       " ('CreatedById', 0.20031027672246718),\n",
       " ('EndCustomerSubsegmentSeqNo', 0.1907554791418245),\n",
       " ('IndustrySeqNo', 0.18068149955784796),\n",
       " ('ActualValue_bucket', 0.1786309617345917),\n",
       " ('VerticalCategorySeqNo', 0.17599961793134472),\n",
       " ('IndustryVerticalSeqNo', 0.1726272458087993),\n",
       " ('AccountCreatedYear', 0.17234531611559425),\n",
       " ('EndCustomerSegmentSeqNo', 0.16399988907684201),\n",
       " ('PfamSkid', 0.16300466185383408),\n",
       " ('ProductNumber', 0.1553263143623921),\n",
       " ('ProdSkid', 0.15450517487343976),\n",
       " ('AccountCity', 0.13452360044246015),\n",
       " ('PoolSeqNo', 0.12976468884513587),\n",
       " ('ProductStructureSeqNo', 0.12485017670675307),\n",
       " ('ProductTypeSeqNo', 0.12485017670675307)]"
      ]
     },
     "execution_count": 15,
     "metadata": {},
     "output_type": "execute_result"
    }
   ],
   "source": [
    "# evaluate single features\n",
    "def train_single_feature(df, feature_name, label):\n",
    "   \n",
    "    df = df[[feature_name, label]].copy()\n",
    "    \n",
    "        \n",
    "    X_train, X_test, y_train, y_test = train_test(df, [feature_name], label)\n",
    "    \n",
    "    model = tree.DecisionTreeClassifier(max_depth=5)\n",
    "    try:\n",
    "        model.fit(X_train, y_train)\n",
    "        acc = model.score(X_test, y_test)\n",
    "        # print(\"Accuracy: {:.4f}\".format(acc))\n",
    "    except Exception as ex:\n",
    "        print(\"Error: \", feature_name, ex)\n",
    "        acc = 0\n",
    "        \n",
    "    return acc\n",
    "    \n",
    "def evaluate_features(df, features, label):\n",
    "    \n",
    "    scores = [(f, train_single_feature(df, f, label)) for f in features]\n",
    "    scores = [(f,s) for f,s in scores if s > 0]\n",
    "    scores.sort(reverse=True, key = lambda x: x[1])\n",
    "    return (scores)\n",
    "    \n",
    "columns_to_evaluate = opt.columns\n",
    "\n",
    "label = \"\"\n",
    "scores = evaluate_features(opt, columns_to_evaluate, label=\"days_to_close_bucket\")\n",
    "\n",
    "print(\"\\n\")\n",
    "scores"
   ]
  },
  {
   "cell_type": "code",
   "execution_count": 22,
   "metadata": {
    "collapsed": true
   },
   "outputs": [],
   "source": [
    "def plot_confusion_matrix(cm, classes,\n",
    "                          normalize=False,\n",
    "                          title='Confusion matrix',\n",
    "                          cmap=plt.cm.Blues):\n",
    "    \"\"\"\n",
    "    This function prints and plots the confusion matrix.\n",
    "    Normalization can be applied by setting `normalize=True`.\n",
    "    \"\"\"\n",
    "    if normalize:\n",
    "        cm = cm.astype('float') / cm.sum(axis=1)[:, np.newaxis]\n",
    "        print(\"Normalized confusion matrix\")\n",
    "    else:\n",
    "        print('Confusion matrix, without normalization')\n",
    "\n",
    "    #print(cm)\n",
    "    plt.figure(figsize=(10,10))\n",
    "    plt.imshow(cm, interpolation='nearest', cmap=cmap)\n",
    "    plt.title(title)\n",
    "    plt.colorbar()\n",
    "    tick_marks = np.arange(len(classes))\n",
    "    plt.xticks(tick_marks, classes, rotation=45)\n",
    "    plt.yticks(tick_marks, classes)\n",
    "\n",
    "    fmt = '.2f' if normalize else 'd'\n",
    "    thresh = cm.max() / 2.\n",
    "    for i, j in itertools.product(range(cm.shape[0]), range(cm.shape[1])):\n",
    "        plt.text(j, i, format(cm[i, j], fmt),\n",
    "                 horizontalalignment=\"center\",\n",
    "                 color=\"white\" if cm[i, j] > thresh else \"black\")\n",
    "\n",
    "    plt.tight_layout()\n",
    "    plt.ylabel('True label')\n",
    "    plt.xlabel('Predicted label')\n"
   ]
  },
  {
   "cell_type": "markdown",
   "metadata": {},
   "source": [
    "# Dummy Classifier"
   ]
  },
  {
   "cell_type": "code",
   "execution_count": 19,
   "metadata": {
    "collapsed": false
   },
   "outputs": [
    {
     "name": "stdout",
     "output_type": "stream",
     "text": [
      "Features Index(['AccountCity', 'AccountCreatedYear', 'IndustrySeqNo', 'CreatedById',\n",
      "       'EndCustomerSubsegmentSeqNo', 'ActualValue_bucket', 'CreatedMonth'],\n",
      "      dtype='object')\n",
      "X_train 1,514,560\n",
      "Strategy: stratified             Accuracy: 0.1235 ***\n",
      "Strategy: most_frequent          Accuracy: 0.1249 ***\n",
      "Strategy: prior                  Accuracy: 0.1249 ***\n",
      "Strategy: uniform                Accuracy: 0.1112 ***\n"
     ]
    }
   ],
   "source": [
    "# dummy \n",
    "\n",
    "# baseline \n",
    "#cat_features = [\"AccountCity\", 'ProductNumber', \"IndustrySeqNo\", \"CreatedById\", \"EndCustomerSubsegmentSeqNo\", 'ProductStructureSeqNo']\n",
    "\n",
    "cat_features = [\"AccountCity\",  \"AccountCreatedYear\", \"IndustrySeqNo\", \"CreatedById\", \n",
    "                \"EndCustomerSubsegmentSeqNo\", \"ActualValue_bucket\", \"CreatedMonth\"]\n",
    "\n",
    "features = cat_features\n",
    "label = \"days_to_close_bucket\"\n",
    "\n",
    "X_train, X_test, y_train, y_test = train_test(opt, features, label) # .sample(n=1500000)\n",
    "\n",
    "print(\"Features\", X_train.columns)\n",
    "print(\"X_train {:,}\".format(len(X_train)))\n",
    "\n",
    "strategies = [\"stratified\", \"most_frequent\", \"prior\", \"uniform\"]\n",
    "for strategy in strategies:\n",
    "    model = DummyClassifier(strategy=strategy)\n",
    "    model.fit(X_train, y_train)\n",
    "    acc = model.score(X_test, y_test)\n",
    "    print(\"Strategy: {:20}   Accuracy: {:.4f} ***\".format(strategy, acc))\n",
    "\n"
   ]
  },
  {
   "cell_type": "markdown",
   "metadata": {},
   "source": [
    "# Single Decision Tree"
   ]
  },
  {
   "cell_type": "code",
   "execution_count": 20,
   "metadata": {
    "collapsed": false
   },
   "outputs": [
    {
     "name": "stdout",
     "output_type": "stream",
     "text": [
      "Features Index(['AccountCity', 'AccountCreatedYear', 'IndustrySeqNo', 'CreatedById',\n",
      "       'EndCustomerSubsegmentSeqNo', 'ActualValue_bucket', 'CreatedMonth',\n",
      "       'PoolSeqNo'],\n",
      "      dtype='object')\n",
      "X_train 1,514,560\n",
      "Accuracy: 0.8627 ***\n",
      "             precision    recall  f1-score   support\n",
      "\n",
      "          0   0.872340  0.886112  0.879172      5321\n",
      "          1   0.816156  0.814545  0.815350     76989\n",
      "          2   0.825828  0.825366  0.825597     80500\n",
      "          3   0.854651  0.858564  0.856603     81040\n",
      "          4   0.870176  0.870047  0.870111     80552\n",
      "          5   0.883538  0.884035  0.883787     81775\n",
      "          6   0.886444  0.878984  0.882698     80799\n",
      "          7   0.890049  0.887719  0.888882     81750\n",
      "          8   0.871033  0.877557  0.874283     80372\n",
      "\n",
      "avg / total   0.862666  0.862651  0.862654    649098\n",
      "\n",
      "[[ 4715   352   101    46    24    15    13    25    30]\n",
      " [  390 62711  5109  2419  1438  1211   999   993  1719]\n",
      " [  119  5291 66442  2586  1484  1203  1031  1002  1342]\n",
      " [   62  2251  2627 69578  1900  1337  1025  1012  1248]\n",
      " [   29  1400  1649  2095 70084  1572  1336  1053  1334]\n",
      " [   17  1149  1227  1446  1880 72292  1577  1137  1050]\n",
      " [   20  1051  1164  1112  1492  1904 71021  1659  1376]\n",
      " [   17  1053   864   922  1070  1141  1768 72571  2344]\n",
      " [   36  1579  1272  1207  1168  1146  1349  2084 70531]]\n",
      "{'AccountCity': 0.392272090373865, 'AccountCreatedYear': 0.15811174727379235, 'IndustrySeqNo': 0.14372996057642792, 'CreatedById': 0.1115851344328623, 'EndCustomerSubsegmentSeqNo': 0.08223934299669773, 'ActualValue_bucket': 0.051593582174963, 'CreatedMonth': 0.0449329334790308, 'PoolSeqNo': 0.015535208692360778}\n"
     ]
    }
   ],
   "source": [
    "# baseline \n",
    "#cat_features = [\"AccountCity\", 'ProductNumber', \"IndustrySeqNo\", \"CreatedById\", \"EndCustomerSubsegmentSeqNo\", 'ProductStructureSeqNo']\n",
    "cat_features = [\"AccountCity\",  \"AccountCreatedYear\", \"IndustrySeqNo\", \"CreatedById\", \n",
    "                \"EndCustomerSubsegmentSeqNo\", \"ActualValue_bucket\", \"CreatedMonth\", \"PoolSeqNo\"]#, \"ProductTypeSeqNo\"]\n",
    "features = cat_features\n",
    "label = \"days_to_close_bucket\"\n",
    "\n",
    "X_train, X_test, y_train, y_test = train_test(opt, features, label)\n",
    "\n",
    "print(\"Features\", X_train.columns)\n",
    "print(\"X_train {:,}\".format(len(X_train)))\n",
    "\n",
    "params = {'n_estimators': 1200, 'max_depth': 3, 'subsample': 0.5,\n",
    "          'learning_rate': 0.01, 'min_samples_leaf': 1, 'random_state': 3}\n",
    "#model = ensemble.GradientBoostingClassifier(**params)\n",
    "model = tree.DecisionTreeClassifier() #max_depth=2)\n",
    "\n",
    "\n",
    "model.fit(X_train, y_train)\n",
    "\n",
    "acc = model.score(X_test, y_test)\n",
    "\n",
    "print(\"Accuracy: {:.4f} ***\".format(acc))\n",
    "\n",
    "y_pred = model.predict(X_test)\n",
    "\n",
    "sk_report = classification_report(\n",
    "    digits=6,\n",
    "    y_true=y_test, \n",
    "    y_pred=model.predict(X_test))\n",
    "print(sk_report)\n",
    "\n",
    "print(confusion_matrix(y_test, y_pred))\n",
    "\n",
    "print(dict(zip(X_train.columns, model.feature_importances_)))\n"
   ]
  },
  {
   "cell_type": "code",
   "execution_count": null,
   "metadata": {
    "collapsed": false
   },
   "outputs": [],
   "source": []
  },
  {
   "cell_type": "markdown",
   "metadata": {
    "collapsed": false
   },
   "source": [
    "# Random Forest"
   ]
  },
  {
   "cell_type": "code",
   "execution_count": 23,
   "metadata": {
    "collapsed": false
   },
   "outputs": [
    {
     "name": "stdout",
     "output_type": "stream",
     "text": [
      "Features Index(['AccountCity', 'AccountCreatedYear', 'IndustrySeqNo', 'CreatedById',\n",
      "       'EndCustomerSubsegmentSeqNo', 'ActualValue_bucket', 'CreatedMonth'],\n",
      "      dtype='object')\n",
      "X_train 1,514,560\n",
      "Accuracy: 0.8746 ***\n",
      "             precision    recall  f1-score   support\n",
      "\n",
      "          0   0.935240  0.884796  0.909319      5321\n",
      "          1   0.803918  0.854979  0.828663     76989\n",
      "          2   0.839599  0.835354  0.837471     80500\n",
      "          3   0.873273  0.866732  0.869991     81040\n",
      "          4   0.894745  0.875062  0.884794     80552\n",
      "          5   0.904958  0.891446  0.898151     81775\n",
      "          6   0.898412  0.887004  0.892671     80799\n",
      "          7   0.903254  0.894691  0.898952     81750\n",
      "          8   0.875970  0.889103  0.882488     80372\n",
      "\n",
      "avg / total   0.875274  0.874557  0.874781    649098\n",
      "\n",
      "[[ 4708   398    87    43    17    15    10    13    30]\n",
      " [  201 65824  4449  1865   938   851   716   690  1455]\n",
      " [   47  6073 67246  2378  1125   921   828   762  1120]\n",
      " [   27  2636  2430 70240  1601  1068   935   821  1282]\n",
      " [   11  1670  1520  1852 70488  1385  1281  1012  1333]\n",
      " [    5  1256  1146  1186  1545 72898  1597  1093  1049]\n",
      " [   12  1136  1105   962  1239  1585 71669  1649  1442]\n",
      " [    6  1123   850   845   864   924  1590 73141  2407]\n",
      " [   17  1763  1261  1062   962   907  1147  1794 71459]]\n",
      "{'AccountCity': 0.4301546956629489, 'AccountCreatedYear': 0.14632478841943947, 'IndustrySeqNo': 0.12003061122363923, 'CreatedById': 0.13087673311197637, 'EndCustomerSubsegmentSeqNo': 0.06464980395028122, 'ActualValue_bucket': 0.04014658887028834, 'CreatedMonth': 0.06781677876142649}\n",
      "Normalized confusion matrix\n"
     ]
    },
    {
     "data": {
      "image/png": "[encoded data removed]",
      "text/plain": [
       "<Figure size 720x720 with 2 Axes>"
      ]
     },
     "metadata": {},
     "output_type": "display_data"
    }
   ],
   "source": [
    "# baseline \n",
    "#cat_features = [\"AccountCity\", 'ProductNumber', \"IndustrySeqNo\", \"CreatedById\", \"EndCustomerSubsegmentSeqNo\", 'ProductStructureSeqNo']\n",
    "\n",
    "cat_features = [\"AccountCity\",  \"AccountCreatedYear\", \"IndustrySeqNo\", \"CreatedById\", \n",
    "                \"EndCustomerSubsegmentSeqNo\", \"ActualValue_bucket\", \"CreatedMonth\"]\n",
    "\n",
    "features = cat_features\n",
    "label = \"days_to_close_bucket\"\n",
    "\n",
    "X_train, X_test, y_train, y_test = train_test(opt, features, label) # .sample(n=1500000)\n",
    "\n",
    "print(\"Features\", X_train.columns)\n",
    "print(\"X_train {:,}\".format(len(X_train)))\n",
    "\n",
    "model = ensemble.RandomForestClassifier(n_estimators=35, n_jobs=-1)\n",
    "\n",
    "model.fit(X_train, y_train)\n",
    "\n",
    "acc = model.score(X_test, y_test)\n",
    "\n",
    "print(\"Accuracy: {:.4f} ***\".format(acc))\n",
    "\n",
    "y_pred = model.predict(X_test)\n",
    "\n",
    "sk_report = classification_report(\n",
    "    digits=6,\n",
    "    y_true=y_test, \n",
    "    y_pred=model.predict(X_test))\n",
    "print(sk_report)\n",
    "\n",
    "print(confusion_matrix(y_test, y_pred))\n",
    "\n",
    "print(dict(zip(X_train.columns, model.feature_importances_)))\n",
    "\n",
    "cm = confusion_matrix(y_test, y_pred)\n",
    "plot_confusion_matrix(cm, bins[:-1], normalize=True)"
   ]
  },
  {
   "cell_type": "code",
   "execution_count": 24,
   "metadata": {
    "collapsed": false
   },
   "outputs": [
    {
     "data": {
      "text/plain": [
       "array([1.000e+00, 6.200e+01, 1.260e+02, 1.830e+02, 2.320e+02, 2.830e+02,\n",
       "       3.430e+02, 4.280e+02, 1.825e+03])"
      ]
     },
     "execution_count": 24,
     "metadata": {},
     "output_type": "execute_result"
    }
   ],
   "source": [
    "bins"
   ]
  },
  {
   "cell_type": "markdown",
   "metadata": {
    "collapsed": false
   },
   "source": [
    "# AdaBoost\n"
   ]
  },
  {
   "cell_type": "code",
   "execution_count": 25,
   "metadata": {
    "collapsed": false
   },
   "outputs": [
    {
     "name": "stdout",
     "output_type": "stream",
     "text": [
      "Features Index(['AccountCity', 'AccountCreatedYear', 'IndustrySeqNo', 'CreatedById',\n",
      "       'EndCustomerSubsegmentSeqNo', 'ActualValue_bucket', 'CreatedMonth'],\n",
      "      dtype='object')\n",
      "X_train 1,514,560\n"
     ]
    },
    {
     "ename": "KeyboardInterrupt",
     "evalue": "",
     "output_type": "error",
     "traceback": [
      "\u001b[1;31m---------------------------------------------------------------------------\u001b[0m",
      "\u001b[1;31mKeyboardInterrupt\u001b[0m                         Traceback (most recent call last)",
      "\u001b[1;32m<ipython-input-25-14dd195f495a>\u001b[0m in \u001b[0;36m<module>\u001b[1;34m()\u001b[0m\n\u001b[0;32m     21\u001b[0m \u001b[0mmodel\u001b[0m\u001b[1;33m.\u001b[0m\u001b[0mfit\u001b[0m\u001b[1;33m(\u001b[0m\u001b[0mX_train\u001b[0m\u001b[1;33m,\u001b[0m \u001b[0my_train\u001b[0m\u001b[1;33m)\u001b[0m\u001b[1;33m\u001b[0m\u001b[0m\n\u001b[0;32m     22\u001b[0m \u001b[1;33m\u001b[0m\u001b[0m\n\u001b[1;32m---> 23\u001b[1;33m \u001b[0macc\u001b[0m \u001b[1;33m=\u001b[0m \u001b[0mmodel\u001b[0m\u001b[1;33m.\u001b[0m\u001b[0mscore\u001b[0m\u001b[1;33m(\u001b[0m\u001b[0mX_test\u001b[0m\u001b[1;33m,\u001b[0m \u001b[0my_test\u001b[0m\u001b[1;33m)\u001b[0m\u001b[1;33m\u001b[0m\u001b[0m\n\u001b[0m\u001b[0;32m     24\u001b[0m \u001b[1;33m\u001b[0m\u001b[0m\n\u001b[0;32m     25\u001b[0m \u001b[0mprint\u001b[0m\u001b[1;33m(\u001b[0m\u001b[1;34m\"Accuracy: {:.4f} ***\"\u001b[0m\u001b[1;33m.\u001b[0m\u001b[0mformat\u001b[0m\u001b[1;33m(\u001b[0m\u001b[0macc\u001b[0m\u001b[1;33m)\u001b[0m\u001b[1;33m)\u001b[0m\u001b[1;33m\u001b[0m\u001b[0m\n",
      "\u001b[1;32mD:\\Anaconda2\\envs\\py36\\lib\\site-packages\\sklearn\\base.py\u001b[0m in \u001b[0;36mscore\u001b[1;34m(self, X, y, sample_weight)\u001b[0m\n\u001b[0;32m    347\u001b[0m         \"\"\"\n\u001b[0;32m    348\u001b[0m         \u001b[1;32mfrom\u001b[0m \u001b[1;33m.\u001b[0m\u001b[0mmetrics\u001b[0m \u001b[1;32mimport\u001b[0m \u001b[0maccuracy_score\u001b[0m\u001b[1;33m\u001b[0m\u001b[0m\n\u001b[1;32m--> 349\u001b[1;33m         \u001b[1;32mreturn\u001b[0m \u001b[0maccuracy_score\u001b[0m\u001b[1;33m(\u001b[0m\u001b[0my\u001b[0m\u001b[1;33m,\u001b[0m \u001b[0mself\u001b[0m\u001b[1;33m.\u001b[0m\u001b[0mpredict\u001b[0m\u001b[1;33m(\u001b[0m\u001b[0mX\u001b[0m\u001b[1;33m)\u001b[0m\u001b[1;33m,\u001b[0m \u001b[0msample_weight\u001b[0m\u001b[1;33m=\u001b[0m\u001b[0msample_weight\u001b[0m\u001b[1;33m)\u001b[0m\u001b[1;33m\u001b[0m\u001b[0m\n\u001b[0m\u001b[0;32m    350\u001b[0m \u001b[1;33m\u001b[0m\u001b[0m\n\u001b[0;32m    351\u001b[0m \u001b[1;33m\u001b[0m\u001b[0m\n",
      "\u001b[1;32mD:\\Anaconda2\\envs\\py36\\lib\\site-packages\\sklearn\\ensemble\\weight_boosting.py\u001b[0m in \u001b[0;36mpredict\u001b[1;34m(self, X)\u001b[0m\n\u001b[0;32m    600\u001b[0m             \u001b[0mThe\u001b[0m \u001b[0mpredicted\u001b[0m \u001b[0mclasses\u001b[0m\u001b[1;33m.\u001b[0m\u001b[1;33m\u001b[0m\u001b[0m\n\u001b[0;32m    601\u001b[0m         \"\"\"\n\u001b[1;32m--> 602\u001b[1;33m         \u001b[0mpred\u001b[0m \u001b[1;33m=\u001b[0m \u001b[0mself\u001b[0m\u001b[1;33m.\u001b[0m\u001b[0mdecision_function\u001b[0m\u001b[1;33m(\u001b[0m\u001b[0mX\u001b[0m\u001b[1;33m)\u001b[0m\u001b[1;33m\u001b[0m\u001b[0m\n\u001b[0m\u001b[0;32m    603\u001b[0m \u001b[1;33m\u001b[0m\u001b[0m\n\u001b[0;32m    604\u001b[0m         \u001b[1;32mif\u001b[0m \u001b[0mself\u001b[0m\u001b[1;33m.\u001b[0m\u001b[0mn_classes_\u001b[0m \u001b[1;33m==\u001b[0m \u001b[1;36m2\u001b[0m\u001b[1;33m:\u001b[0m\u001b[1;33m\u001b[0m\u001b[0m\n",
      "\u001b[1;32mD:\\Anaconda2\\envs\\py36\\lib\\site-packages\\sklearn\\ensemble\\weight_boosting.py\u001b[0m in \u001b[0;36mdecision_function\u001b[1;34m(self, X)\u001b[0m\n\u001b[0;32m    672\u001b[0m             pred = sum((estimator.predict(X) == classes).T * w\n\u001b[0;32m    673\u001b[0m                        for estimator, w in zip(self.estimators_,\n\u001b[1;32m--> 674\u001b[1;33m                                                self.estimator_weights_))\n\u001b[0m\u001b[0;32m    675\u001b[0m \u001b[1;33m\u001b[0m\u001b[0m\n\u001b[0;32m    676\u001b[0m         \u001b[0mpred\u001b[0m \u001b[1;33m/=\u001b[0m \u001b[0mself\u001b[0m\u001b[1;33m.\u001b[0m\u001b[0mestimator_weights_\u001b[0m\u001b[1;33m.\u001b[0m\u001b[0msum\u001b[0m\u001b[1;33m(\u001b[0m\u001b[1;33m)\u001b[0m\u001b[1;33m\u001b[0m\u001b[0m\n",
      "\u001b[1;32mD:\\Anaconda2\\envs\\py36\\lib\\site-packages\\sklearn\\ensemble\\weight_boosting.py\u001b[0m in \u001b[0;36m<genexpr>\u001b[1;34m(.0)\u001b[0m\n\u001b[0;32m    671\u001b[0m         \u001b[1;32melse\u001b[0m\u001b[1;33m:\u001b[0m   \u001b[1;31m# self.algorithm == \"SAMME\"\u001b[0m\u001b[1;33m\u001b[0m\u001b[0m\n\u001b[0;32m    672\u001b[0m             pred = sum((estimator.predict(X) == classes).T * w\n\u001b[1;32m--> 673\u001b[1;33m                        for estimator, w in zip(self.estimators_,\n\u001b[0m\u001b[0;32m    674\u001b[0m                                                self.estimator_weights_))\n\u001b[0;32m    675\u001b[0m \u001b[1;33m\u001b[0m\u001b[0m\n",
      "\u001b[1;32mD:\\Anaconda2\\envs\\py36\\lib\\site-packages\\sklearn\\tree\\tree.py\u001b[0m in \u001b[0;36mpredict\u001b[1;34m(self, X, check_input)\u001b[0m\n\u001b[0;32m    411\u001b[0m         \u001b[0mcheck_is_fitted\u001b[0m\u001b[1;33m(\u001b[0m\u001b[0mself\u001b[0m\u001b[1;33m,\u001b[0m \u001b[1;34m'tree_'\u001b[0m\u001b[1;33m)\u001b[0m\u001b[1;33m\u001b[0m\u001b[0m\n\u001b[0;32m    412\u001b[0m         \u001b[0mX\u001b[0m \u001b[1;33m=\u001b[0m \u001b[0mself\u001b[0m\u001b[1;33m.\u001b[0m\u001b[0m_validate_X_predict\u001b[0m\u001b[1;33m(\u001b[0m\u001b[0mX\u001b[0m\u001b[1;33m,\u001b[0m \u001b[0mcheck_input\u001b[0m\u001b[1;33m)\u001b[0m\u001b[1;33m\u001b[0m\u001b[0m\n\u001b[1;32m--> 413\u001b[1;33m         \u001b[0mproba\u001b[0m \u001b[1;33m=\u001b[0m \u001b[0mself\u001b[0m\u001b[1;33m.\u001b[0m\u001b[0mtree_\u001b[0m\u001b[1;33m.\u001b[0m\u001b[0mpredict\u001b[0m\u001b[1;33m(\u001b[0m\u001b[0mX\u001b[0m\u001b[1;33m)\u001b[0m\u001b[1;33m\u001b[0m\u001b[0m\n\u001b[0m\u001b[0;32m    414\u001b[0m         \u001b[0mn_samples\u001b[0m \u001b[1;33m=\u001b[0m \u001b[0mX\u001b[0m\u001b[1;33m.\u001b[0m\u001b[0mshape\u001b[0m\u001b[1;33m[\u001b[0m\u001b[1;36m0\u001b[0m\u001b[1;33m]\u001b[0m\u001b[1;33m\u001b[0m\u001b[0m\n\u001b[0;32m    415\u001b[0m \u001b[1;33m\u001b[0m\u001b[0m\n",
      "\u001b[1;31mKeyboardInterrupt\u001b[0m: "
     ]
    }
   ],
   "source": [
    "# baseline \n",
    "#cat_features = [\"AccountCity\", 'ProductNumber', \"IndustrySeqNo\", \"CreatedById\", \"EndCustomerSubsegmentSeqNo\", 'ProductStructureSeqNo']\n",
    "\n",
    "cat_features = [\"AccountCity\",  \"AccountCreatedYear\", \"IndustrySeqNo\", \"CreatedById\", \n",
    "                \"EndCustomerSubsegmentSeqNo\", \"ActualValue_bucket\", \"CreatedMonth\"]\n",
    "\n",
    "features = cat_features\n",
    "label = \"days_to_close_bucket\"\n",
    "\n",
    "X_train, X_test, y_train, y_test = train_test(opt, features, label) # .sample(n=1500000)\n",
    "\n",
    "print(\"Features\", X_train.columns)\n",
    "print(\"X_train {:,}\".format(len(X_train)))\n",
    "\n",
    "model = ensemble.AdaBoostClassifier(\n",
    "                    tree.DecisionTreeClassifier(max_depth=2),\n",
    "                    n_estimators=600,\n",
    "                    learning_rate=1.0,\n",
    "                    algorithm=\"SAMME\")\n",
    "\n",
    "model.fit(X_train, y_train)\n",
    "\n",
    "acc = model.score(X_test, y_test)\n",
    "\n",
    "print(\"Accuracy: {:.4f} ***\".format(acc))\n",
    "\n",
    "y_pred = model.predict(X_test)\n",
    "\n",
    "sk_report = classification_report(\n",
    "    digits=6,\n",
    "    y_true=y_test, \n",
    "    y_pred=model.predict(X_test))\n",
    "print(sk_report)\n",
    "\n",
    "print(confusion_matrix(y_test, y_pred))\n",
    "\n",
    "print(dict(zip(X_train.columns, model.feature_importances_)))\n",
    "\n",
    "cm = confusion_matrix(y_test, y_pred)\n",
    "plot_confusion_matrix(cm, bins[:-1], normalize=True)"
   ]
  },
  {
   "cell_type": "code",
   "execution_count": null,
   "metadata": {
    "collapsed": true
   },
   "outputs": [],
   "source": []
  },
  {
   "cell_type": "markdown",
   "metadata": {},
   "source": [
    "# Regression"
   ]
  },
  {
   "cell_type": "code",
   "execution_count": 27,
   "metadata": {
    "collapsed": false
   },
   "outputs": [],
   "source": [
    "import  torch\n",
    "import  torch.nn  as nn\n",
    "from torch.autograd import Variable\n",
    "from torch.utils.data import Dataset, TensorDataset, DataLoader \n",
    "import numpy as np\n",
    "import matplotlib.pyplot as plt"
   ]
  },
  {
   "cell_type": "code",
   "execution_count": 94,
   "metadata": {
    "collapsed": false
   },
   "outputs": [
    {
     "name": "stdout",
     "output_type": "stream",
     "text": [
      "Cuda: True\n"
     ]
    }
   ],
   "source": [
    "cuda = torch.cuda.is_available()\n",
    "seed = 42\n",
    "torch.manual_seed(seed)\n",
    "if cuda:\n",
    "    torch.cuda.manual_seed(seed)\n",
    "print(\"Cuda:\", cuda)"
   ]
  },
  {
   "cell_type": "code",
   "execution_count": 86,
   "metadata": {
    "collapsed": false
   },
   "outputs": [],
   "source": [
    "# convert data\n",
    "from sklearn.preprocessing import OneHotEncoder\n",
    "\n",
    "features = [\"AccountCity\",  \"AccountCreatedYear\", \"IndustrySeqNo\", \"CreatedById\", \n",
    "                \"EndCustomerSubsegmentSeqNo\", \"ActualValue_bucket\", \"CreatedMonth\"]\n",
    "\n",
    "label = \"actual_days_to_close\"\n",
    "ov = opt[features].values\n",
    "\n",
    "total = 0\n",
    "#for feature in features:\n",
    "#    l = len(opt[feature].unique())\n",
    "#    total += l\n",
    "#    print(\"{:30} {}\".format(feature,l))\n",
    "#print(\"{:30} {}\".format(\"Total\", total))\n",
    "\n",
    "enc = OneHotEncoder(dtype=np.float32)\n",
    "enc.fit(ov)  \n",
    "\n",
    "#print(enc.n_values_)\n",
    "#print(enc.feature_indices_)\n",
    "\n",
    "x_train = enc.transform(ov[0:100]).toarray() \n",
    "y_true = opt.iloc[0:100][label].values.astype(np.float32).reshape(-1, 1)\n",
    "len(x_train[0])\n",
    "\n",
    "def get_batch(x, y, batch_size = 100):\n",
    "    rows = np.random.randint(0, high=len(x), size=batch_size)\n",
    "    return (x.iloc[rows], y.iloc[rows])\n",
    "\n",
    "def onhot_encode(df, enc):\n",
    "    x = enc.transform(df).toarray()\n",
    "    return x"
   ]
  },
  {
   "cell_type": "code",
   "execution_count": 95,
   "metadata": {
    "collapsed": false
   },
   "outputs": [],
   "source": [
    "class LinearRegressionModel(nn.Module):\n",
    "\n",
    "    def __init__(self, input_dim, output_dim):\n",
    "\n",
    "        super(LinearRegressionModel, self).__init__() \n",
    "        \n",
    "        self.linear = nn.Linear(input_dim, output_dim)\n",
    "                \n",
    "        if torch.cuda.is_available():\n",
    "            self.linear.cuda()\n",
    "        \n",
    "        self.net = self.linear\n",
    "\n",
    "    def forward(self, x):\n",
    "        out = self.net(x)\n",
    "        return out\n"
   ]
  },
  {
   "cell_type": "code",
   "execution_count": 113,
   "metadata": {
    "collapsed": false
   },
   "outputs": [],
   "source": [
    "# prepare a sample so we can get the dimension\n",
    "X_train, X_test, y_train, y_test = train_test(opt, features, label) # .sample(n=1500000)\n",
    "\n",
    "x, _ = get_batch(X_train, y_train)\n",
    "x_train = onhot_encode(x, enc)\n",
    "input_dim = len(x_train[0])\n",
    "\n",
    "model = LinearRegressionModel(input_dim, 1)\n",
    "\n",
    "criterion = nn.MSELoss()\n",
    "l_rate = 0.01\n",
    "optimiser = torch.optim.SGD(model.parameters(), lr = 0.001) #Stochastic Gradient Descent\n",
    "#optimiser = torch.optim.Adam(model.parameters(), lr = 0.001)\n",
    "\n",
    "\n",
    "epochs = 100000"
   ]
  },
  {
   "cell_type": "code",
   "execution_count": null,
   "metadata": {
    "collapsed": false,
    "scrolled": true
   },
   "outputs": [
    {
     "name": "stdout",
     "output_type": "stream",
     "text": [
      "epoch 1000, loss 24156.650390625\n",
      "epoch 2000, loss 25161.0546875\n",
      "epoch 3000, loss 19958.861328125\n",
      "epoch 4000, loss 16646.7109375\n",
      "epoch 5000, loss 23620.890625\n",
      "epoch 6000, loss 13608.1103515625\n",
      "epoch 7000, loss 30719.9296875\n",
      "epoch 8000, loss 18212.39453125\n",
      "epoch 9000, loss 26118.97265625\n",
      "epoch 10000, loss 12199.73046875\n",
      "epoch 11000, loss 14873.853515625\n",
      "epoch 12000, loss 20833.98828125\n",
      "epoch 13000, loss 14238.9560546875\n",
      "epoch 14000, loss 13770.4697265625\n",
      "epoch 15000, loss 20922.375\n",
      "epoch 16000, loss 17717.294921875\n",
      "epoch 17000, loss 29288.5546875\n",
      "epoch 18000, loss 18626.88671875\n",
      "epoch 19000, loss 15897.13671875\n",
      "epoch 20000, loss 26638.962890625\n",
      "epoch 21000, loss 22021.8671875\n",
      "epoch 22000, loss 22788.490234375\n",
      "epoch 23000, loss 25055.494140625\n",
      "epoch 24000, loss 32571.08984375\n",
      "epoch 25000, loss 23214.7265625\n",
      "epoch 26000, loss 34897.6015625\n",
      "epoch 27000, loss 22160.259765625\n",
      "epoch 28000, loss 12827.57421875\n",
      "epoch 29000, loss 17456.314453125\n",
      "epoch 30000, loss 14126.646484375\n",
      "epoch 31000, loss 23144.400390625\n",
      "epoch 32000, loss 17041.48046875\n",
      "epoch 33000, loss 20833.431640625\n",
      "epoch 34000, loss 25991.650390625\n",
      "epoch 35000, loss 13887.0537109375\n",
      "epoch 36000, loss 16592.76171875\n",
      "epoch 37000, loss 33096.62890625\n",
      "epoch 38000, loss 29215.544921875\n",
      "epoch 39000, loss 26953.240234375\n",
      "epoch 40000, loss 14049.443359375\n",
      "epoch 41000, loss 34946.5234375\n",
      "epoch 42000, loss 23778.865234375\n",
      "epoch 43000, loss 25174.341796875\n",
      "epoch 44000, loss 22853.134765625\n",
      "epoch 45000, loss 22138.38671875\n",
      "epoch 46000, loss 20325.6640625\n",
      "epoch 47000, loss 21926.044921875\n",
      "epoch 48000, loss 12603.43359375\n",
      "epoch 49000, loss 39418.875\n",
      "epoch 50000, loss 44245.9453125\n",
      "epoch 51000, loss 45341.6796875\n",
      "epoch 52000, loss 15048.068359375\n",
      "epoch 53000, loss 29906.36328125\n",
      "epoch 54000, loss 13205.224609375\n",
      "epoch 55000, loss 18674.462890625\n",
      "epoch 56000, loss 20584.48046875\n",
      "epoch 57000, loss 16112.3671875\n",
      "epoch 58000, loss 23540.1640625\n",
      "epoch 59000, loss 19025.5859375\n",
      "epoch 60000, loss 20130.1015625\n",
      "epoch 61000, loss 22197.9140625\n",
      "epoch 62000, loss 21922.935546875\n",
      "epoch 63000, loss 14794.1904296875\n",
      "epoch 64000, loss 22148.177734375\n",
      "epoch 65000, loss 15998.6796875\n"
     ]
    }
   ],
   "source": [
    "X_train, X_test, y_train, y_test = train_test(opt, features, label) # .sample(n=1500000)\n",
    "\n",
    "for epoch in range(epochs):\n",
    "\n",
    "    epoch +=1\n",
    "    X, y = get_batch(X_train, y_train)\n",
    "    \n",
    "    xt = onhot_encode(X, enc)\n",
    "    yt = y.values.astype(np.float32).reshape(-1, 1)\n",
    "    \n",
    "    inputs = Variable(torch.from_numpy(xt)).cuda()\n",
    "    labels = Variable(torch.from_numpy(yt)).cuda()\n",
    "\n",
    "    # clear gradients\n",
    "    optimiser.zero_grad()\n",
    "    # get predicted values\n",
    "    outputs = model.forward(inputs)\n",
    "    loss = criterion(outputs, labels)\n",
    "    loss.backward()\n",
    "    optimiser.step()\n",
    "    if (epoch % 1000 == 0):\n",
    "        print('epoch {}, loss {}'.format(epoch,loss.data.item()))"
   ]
  },
  {
   "cell_type": "code",
   "execution_count": 105,
   "metadata": {
    "collapsed": false
   },
   "outputs": [
    {
     "name": "stdout",
     "output_type": "stream",
     "text": [
      "0.136\n"
     ]
    }
   ],
   "source": [
    "tolerance = 0.1\n",
    "correct  = 0\n",
    "total = 1000\n",
    "\n",
    "xt= X_train\n",
    "yt = y_train\n",
    "\n",
    "with torch.no_grad():\n",
    "    for _ in range(total):\n",
    "        n = np.random.randint(len(xt))\n",
    "        x = onhot_encode(xt.iloc[n:n+1], enc)        \n",
    "        inputs = Variable(torch.from_numpy(x)).cuda()\n",
    "        p = model.forward(inputs).item()\n",
    "        t = yt.iloc[n]\n",
    "        error = abs(p-t)/(t+0.00001)\n",
    "        #print(p, t, error)\n",
    "        if error < tolerance:\n",
    "            correct += 1\n",
    "    \n",
    "    print (correct/total)\n",
    "    \n"
   ]
  },
  {
   "cell_type": "markdown",
   "metadata": {},
   "source": [
    "# SGDClassifier"
   ]
  },
  {
   "cell_type": "code",
   "execution_count": 106,
   "metadata": {
    "collapsed": true
   },
   "outputs": [],
   "source": [
    "from sklearn.linear_model import SGDClassifier"
   ]
  },
  {
   "cell_type": "code",
   "execution_count": null,
   "metadata": {
    "collapsed": true
   },
   "outputs": [],
   "source": [
    "   \n",
    "X_train, X_test, y_train, y_test = train_test(opt, features, label) # .sample(n=1500000)\n",
    "\n",
    "model = SGDClassifier(loss='log')\n",
    "\n",
    "for epoch in range(epochs):\n",
    "\n",
    "    epoch +=1\n",
    "    X, y = get_batch(X_train, y_train)\n",
    "    \n",
    "    xt = onhot_encode(X, enc)\n",
    "    yt = y.values.astype(np.float32).reshape(-1, 1)\n",
    "    model.partial_fit(xt, yt)\n",
    "    \n"
   ]
  },
  {
   "cell_type": "code",
   "execution_count": null,
   "metadata": {
    "collapsed": true
   },
   "outputs": [],
   "source": [
    "tolerance = 0.1\n",
    "correct  = 0\n",
    "total = 1000\n",
    "\n",
    "xt= X_train\n",
    "yt = y_train\n",
    "\n",
    "\n",
    "for _ in range(total):\n",
    "    n = np.random.randint(len(xt))\n",
    "    x = onhot_encode(xt.iloc[n:n+1], enc)        \n",
    "    \n",
    "    p = model.predict(x)\n",
    "    t = yt.iloc[n]\n",
    "    error = abs(p-t)/(t+0.00001)\n",
    "    #print(p, t, error)\n",
    "    if error < tolerance:\n",
    "        correct += 1\n",
    "\n",
    "print (correct/total)\n",
    "    "
   ]
  }
 ],
 "metadata": {
  "kernelspec": {
   "display_name": "Python 3",
   "language": "python",
   "name": "python3"
  },
  "language_info": {
   "codemirror_mode": {
    "name": "ipython",
    "version": 3
   },
   "file_extension": ".py",
   "mimetype": "text/x-python",
   "name": "python",
   "nbconvert_exporter": "python",
   "pygments_lexer": "ipython3",
   "version": "3.6.5"
  }
 },
 "nbformat": 4,
 "nbformat_minor": 2
}
